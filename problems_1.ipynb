{
 "cells": [
  {
   "cell_type": "markdown",
   "id": "eae609bb-c69b-4227-8e62-fad18d2e7d65",
   "metadata": {},
   "source": [
    "# Problems 1\n",
    "## Task 1"
   ]
  },
  {
   "cell_type": "code",
   "execution_count": 66,
   "id": "68a9b861-83db-49fe-8454-2c3413d5b1eb",
   "metadata": {},
   "outputs": [],
   "source": [
    "import numpy as np"
   ]
  },
  {
   "cell_type": "code",
   "execution_count": 159,
   "id": "2539ef64-3f4c-42d8-961f-c30d124e0ab5",
   "metadata": {},
   "outputs": [
    {
     "data": {
      "text/plain": [
       "array([[1, 1, 1, 2, 2, 2],\n",
       "       [1, 1, 1, 2, 2, 2]])"
      ]
     },
     "execution_count": 159,
     "metadata": {},
     "output_type": "execute_result"
    }
   ],
   "source": [
    "# 1\n",
    "A = np.array([[1, 1, 1], [1, 1, 1]])\n",
    "B = np.array([[2, 2, 2], [2, 2, 2]])\n",
    "\n",
    "np.concatenate((A,B), axis = 1)"
   ]
  },
  {
   "cell_type": "code",
   "execution_count": 81,
   "id": "12645b29-d5ff-43ed-ad4c-4a1514dc37b0",
   "metadata": {},
   "outputs": [
    {
     "name": "stdout",
     "output_type": "stream",
     "text": [
      "[[ 0  1  2  3  4]\n",
      " [ 5  6  7  8  9]\n",
      " [10 11 12 13 14]\n",
      " [15 16 17 18 19]\n",
      " [20 21 22 23 24]]\n"
     ]
    },
    {
     "data": {
      "text/plain": [
       "array([ 1, 19, 22, 13])"
      ]
     },
     "execution_count": 81,
     "metadata": {},
     "output_type": "execute_result"
    }
   ],
   "source": [
    "# 2\n",
    "M = np.arange(25).reshape((5, -1))\n",
    "print(M)\n",
    "a = [0, 3, 4, 2]\n",
    "b = [1, 4, 2, 3]\n",
    "\n",
    "M[a, b]"
   ]
  },
  {
   "cell_type": "code",
   "execution_count": 12,
   "id": "9c03a14b-d379-499f-a230-dd8dad0d415f",
   "metadata": {},
   "outputs": [
    {
     "name": "stdout",
     "output_type": "stream",
     "text": [
      "[[0 1 0 0 1 2 2 1 0 0]\n",
      " [0 2 2 0 0 2 1 2 2 2]\n",
      " [0 2 2 0 1 1 2 2 1 0]\n",
      " [2 2 2 2 2 0 2 0 2 0]\n",
      " [0 1 1 2 1 1 1 1 0 0]\n",
      " [0 1 0 1 2 0 0 2 1 1]\n",
      " [2 0 0 2 2 2 0 2 2 1]\n",
      " [1 0 2 2 2 0 1 2 2 2]\n",
      " [2 2 0 1 0 0 1 1 0 0]\n",
      " [2 2 0 2 1 2 2 1 2 0]]\n",
      "[0 2 2 2 1 0 0 2 0 0]\n",
      "trA = 9, кол-во ненулевых элементов: 5\n"
     ]
    }
   ],
   "source": [
    "# 3\n",
    "A = np.random.choice([0, 1, 2], 100).reshape((10, 10))\n",
    "print(A)\n",
    "\n",
    "D = A.diagonal()\n",
    "print(D)\n",
    "\n",
    "print(f'trA = {D.sum()}, кол-во ненулевых элементов: {len(D[D!=0])}')"
   ]
  },
  {
   "cell_type": "code",
   "execution_count": 10,
   "id": "247687aa-0ba6-4b99-b9e5-2804ca08e230",
   "metadata": {},
   "outputs": [
    {
     "name": "stdout",
     "output_type": "stream",
     "text": [
      "[[4 3 1 4]\n",
      " [0 0 3 2]\n",
      " [3 1 4 3]]\n",
      "[0 1 2 3 4] [2 2 1 4 3]\n"
     ]
    }
   ],
   "source": [
    "# 4\n",
    "A = np.random.choice(np.arange(5), 12).reshape((3, 4))\n",
    "\n",
    "A.reshape((-1,))\n",
    "print(A)\n",
    "unique, counts = np.unique(A, return_counts=True)\n",
    "print(unique , counts)"
   ]
  },
  {
   "cell_type": "code",
   "execution_count": 13,
   "id": "ac375025-11d1-48d3-b0ab-cb65ca6050b9",
   "metadata": {},
   "outputs": [
    {
     "name": "stdout",
     "output_type": "stream",
     "text": [
      "[[-1  1  1 -1]\n",
      " [-1 -1 -1 -1]\n",
      " [-1 -1  1 -1]] \n",
      "\n",
      " [[2 2 2 2]\n",
      " [2 2 2 2]\n",
      " [2 2 2 2]]\n"
     ]
    },
    {
     "data": {
      "text/plain": [
       "array([[0, 2, 2, 0],\n",
       "       [0, 0, 0, 0],\n",
       "       [0, 0, 2, 0]])"
      ]
     },
     "execution_count": 13,
     "metadata": {},
     "output_type": "execute_result"
    }
   ],
   "source": [
    "# 5\n",
    "A = np.random.choice([-1, 1], 12).reshape((3, 4))\n",
    "B = np.random.choice([2], 12).reshape((3, 4))\n",
    "\n",
    "print(A, \"\\n\\n\", B)\n",
    "\n",
    "B[A<0] = 0\n",
    "B"
   ]
  },
  {
   "cell_type": "code",
   "execution_count": 26,
   "id": "ab092d4e-e791-48d3-b947-acb3c21880ad",
   "metadata": {},
   "outputs": [
    {
     "name": "stdout",
     "output_type": "stream",
     "text": [
      "[[1. 1. 1. 3.]\n",
      " [3. 2. 4. 3.]\n",
      " [3. 0. 3. 0.]]\n",
      "[2.33333333 1.         2.66666667 2.        ]\n",
      "[[-0.81649658  0.         -0.77151675  0.40824829]\n",
      " [ 0.40824829  0.70710678  0.6172134   0.40824829]\n",
      " [ 0.40824829 -0.70710678  0.15430335 -0.81649658]]\n"
     ]
    }
   ],
   "source": [
    "# 6\n",
    "A = np.random.choice(np.arange(5), 12).reshape((3, 4))\n",
    "# A = np.random.choice([0], 12).reshape((3, 4))\n",
    "A = np.array(A, dtype=np.float64)\n",
    "print(A)\n",
    "print(np.mean(A, axis=0))\n",
    "A -= np.mean(A, axis=0)\n",
    "sqrt = np.sqrt(np.sum(A**2, axis=0))\n",
    "A[:, sqrt != 0] /= sqrt[sqrt != 0]\n",
    "print(A)"
   ]
  },
  {
   "cell_type": "code",
   "execution_count": 14,
   "id": "28904c7c-abfa-4d0b-9684-25453dbd33ae",
   "metadata": {},
   "outputs": [
    {
     "data": {
      "text/plain": [
       "array([[ 2,  2,  2,  2],\n",
       "       [-2, -2, -2, -2],\n",
       "       [ 2,  2,  2,  2],\n",
       "       [ 2,  2,  2,  2]])"
      ]
     },
     "execution_count": 14,
     "metadata": {},
     "output_type": "execute_result"
    }
   ],
   "source": [
    "# 7\n",
    "A = np.random.choice([-1, 1], 12).reshape((3, 4))\n",
    "B = np.random.choice([2], 12).reshape((3, 4))\n",
    "\n",
    "A.T @ B"
   ]
  },
  {
   "cell_type": "code",
   "execution_count": 110,
   "id": "c4df2081-3444-4cac-80c8-b7d7ed817b19",
   "metadata": {},
   "outputs": [
    {
     "data": {
      "application/vnd.jupyter.widget-view+json": {
       "model_id": "e8d98cf9a16a40b8a1c4cfb12dcc96b3",
       "version_major": 2,
       "version_minor": 0
      },
      "text/plain": [
       "  0%|          | 0/8 [00:00<?, ?it/s]"
      ]
     },
     "metadata": {},
     "output_type": "display_data"
    },
    {
     "data": {
      "image/png": "[encoded data removed]",
      "text/plain": [
       "<Figure size 432x288 with 1 Axes>"
      ]
     },
     "metadata": {
      "needs_background": "light"
     },
     "output_type": "display_data"
    }
   ],
   "source": [
    "# 8\n",
    "import matplotlib.pyplot as plt\n",
    "from time import time\n",
    "from tqdm.autonotebook import tqdm\n",
    "\n",
    "N = 8\n",
    "t_for = np.zeros(N)\n",
    "t_np = np.zeros(N)\n",
    "voc_n = np.zeros(N)\n",
    "\n",
    "for i in tqdm(range(N)):\n",
    "    n = 2**i\n",
    "    voc_n[i] = n\n",
    "    A = np.random.choice(np.arange(n), n*n).reshape((n, n))\n",
    "    B = np.random.choice(np.arange(n), n*n).reshape((n, n))\n",
    "    \n",
    "    start = time()\n",
    "    C = A@B\n",
    "    t_np[i] = time() - start\n",
    "    # print(C)\n",
    "    \n",
    "    start = time()\n",
    "    C = np.zeros((n, n))\n",
    "    for z in range(n):\n",
    "        for j in range(n):\n",
    "            for k in range(n):\n",
    "                C[z, j] += A[z, k] * B[k, j]\n",
    "                # print(C)\n",
    "    t_for[i] = time() - start\n",
    "    # print(C)\n",
    "    \n",
    "plt.plot(voc_n, t_for, label='for')\n",
    "plt.plot(voc_n, t_np, label='np')\n",
    "plt.legend()\n",
    "plt.yscale('log')\n",
    "plt.xscale('log')\n",
    "plt.show()"
   ]
  },
  {
   "cell_type": "markdown",
   "id": "fa05b6a1-0c55-4f92-b47e-4cb764342f30",
   "metadata": {},
   "source": [
    "## Task 2"
   ]
  },
  {
   "cell_type": "code",
   "execution_count": 64,
   "id": "2fb00edd-d28f-4663-9895-2ed9431e7b65",
   "metadata": {},
   "outputs": [],
   "source": [
    "import matplotlib.pyplot as plt\n",
    "from tqdm.autonotebook import tqdm"
   ]
  },
  {
   "cell_type": "code",
   "execution_count": 114,
   "id": "113ef6e9-070e-4f44-993c-7e5b6888b71c",
   "metadata": {},
   "outputs": [
    {
     "data": {
      "image/png": "[encoded data removed]",
      "text/plain": [
       "<Figure size 432x288 with 4 Axes>"
      ]
     },
     "metadata": {
      "needs_background": "light"
     },
     "output_type": "display_data"
    }
   ],
   "source": [
    "# 1\n",
    "x = np.arange(10)+1\n",
    "fig, axs = plt.subplots(2, 2)\n",
    "axs[0][0].plot(x, x)\n",
    "axs[0][1].plot(x, x**2)\n",
    "axs[1][0].plot(x, x**0.5)\n",
    "axs[1][1].plot(x, 1/x)\n",
    "plt.show()"
   ]
  },
  {
   "cell_type": "code",
   "execution_count": 115,
   "id": "a175f608-b3bd-45cd-bbd9-4dbb0f772826",
   "metadata": {},
   "outputs": [
    {
     "data": {
      "image/png": "[encoded data removed]",
      "text/plain": [
       "<Figure size 432x288 with 1 Axes>"
      ]
     },
     "metadata": {
      "needs_background": "light"
     },
     "output_type": "display_data"
    }
   ],
   "source": [
    "# 2\n",
    "data = np.loadtxt('4.3.1_1.txt')\n",
    "fig, ax = plt.subplots()\n",
    "ax.grid(True)\n",
    "ax.set(ylabel='$2z_m, мк$', xlabel='n', ylim=[0,230])\n",
    "ax.scatter(data[:, 0], data[:, 3], s=10, label='эксперементальные точки')\n",
    "ax.errorbar(data[:, 0], data[:, 3], data[:, 4], np.zeros(len(data[:, 3])), ls='none')\n",
    "D = 204\n",
    "ax.plot(data[:, 0], np.zeros(len(data[:, 3]))+D, label='$D_{S_2}$')\n",
    "plt.legend()\n",
    "plt.show()"
   ]
  },
  {
   "cell_type": "code",
   "execution_count": 120,
   "id": "59ed51a1-f550-48ab-be43-ccf9543bc596",
   "metadata": {},
   "outputs": [
    {
     "data": {
      "image/png": "[encoded data removed]",
      "text/plain": [
       "<Figure size 432x288 with 1 Axes>"
      ]
     },
     "metadata": {
      "needs_background": "light"
     },
     "output_type": "display_data"
    }
   ],
   "source": [
    "# 3\n",
    "x = np.arange(10)\n",
    "y = np.exp(x)*(x+1)\n",
    "plt.plot(x, y)\n",
    "plt.yscale('log')\n",
    "plt.show()"
   ]
  },
  {
   "cell_type": "markdown",
   "id": "913a9d05-8cdb-42bf-9481-161af5bdc8c3",
   "metadata": {},
   "source": [
    "## Task 3"
   ]
  },
  {
   "cell_type": "code",
   "execution_count": 86,
   "id": "f5404601-ca78-4deb-8d56-fd022f1dc30e",
   "metadata": {},
   "outputs": [],
   "source": [
    "import matplotlib.pyplot as plt\n",
    "from time import time\n",
    "from tqdm.autonotebook import tqdm\n",
    "import numpy as np"
   ]
  },
  {
   "cell_type": "code",
   "execution_count": 29,
   "id": "4bfcf130-4705-4aa6-8710-f824b4f93af5",
   "metadata": {},
   "outputs": [
    {
     "name": "stdout",
     "output_type": "stream",
     "text": [
      "[0. 0. 0. 0. 0. 0. 0. 0. 0. 0. 0. 2. 0. 0. 1. 3. 0. 1. 2. 0. 2. 2. 1. 0.\n",
      " 3. 0. 2. 2. 2. 2. 3. 0. 2. 1. 2. 2. 0. 2. 1. 1. 1. 1. 3. 1. 1. 0. 1. 2.\n",
      " 1. 2. 2. 1. 1. 3. 1. 0. 3. 1. 3. 0. 2. 2. 3. 1. 1. 1. 4. 0. 1. 2. 1. 1.\n",
      " 2. 1. 1. 0. 4. 0. 1. 1. 1. 0. 1. 1. 2. 2. 2. 2. 0. 0. 0. 0. 0. 0. 0. 0.\n",
      " 0. 0. 0. 0.]\n",
      "[0. 0. 0. 0. 0. 0. 0. 0. 0. 0. 0. 0. 1. 1. 1. 0. 3. 2. 1. 2. 1. 1. 1. 4.\n",
      " 0. 4. 0. 1. 2. 0. 1. 2. 2. 4. 2. 0. 3. 1. 2. 1. 2. 1. 0. 2. 0. 3. 2. 0.\n",
      " 3. 1. 1. 1. 2. 0. 2. 2. 0. 1. 1. 3. 0. 1. 1. 1. 3. 1. 0. 5. 0. 1. 1. 2.\n",
      " 1. 2. 1. 4. 0. 2. 1. 2. 2. 1. 1. 1. 1. 1. 1. 0. 2. 0. 0. 0. 0. 0. 0. 0.\n",
      " 0. 0. 0. 0.]\n",
      "(2, 100) (100,) (100,)\n"
     ]
    },
    {
     "data": {
      "image/png": "[encoded data removed]",
      "text/plain": [
       "<Figure size 432x288 with 1 Axes>"
      ]
     },
     "metadata": {
      "needs_background": "light"
     },
     "output_type": "display_data"
    }
   ],
   "source": [
    "# 1\n",
    "\n",
    "N = 1000\n",
    "sigma = 1\n",
    "x0 = 0\n",
    "s = np.random.normal(x0, sigma, 1000)\n",
    "num = 10\n",
    "voc_v = np.empty((0,))\n",
    "bins = 100\n",
    "bin_min = np.ones(bins)*N\n",
    "bin_max = np.zeros(bins)\n",
    "# bin_min = np.zeros(bins)\n",
    "# bin_max = np.ones(bins)*N\n",
    "for i in range(num):\n",
    "    A = np.random.choice(s, N*N).reshape((N, N))\n",
    "    A += A.T\n",
    "    v, _ = np.linalg.eig(A)\n",
    "    h, b = np.histogram(v, bins=bins, range=(-120, 120))\n",
    "    \n",
    "    bin_max[bin_max < h] = h[bin_max < h]\n",
    "    bin_min[bin_min > h] = h[bin_min > h]\n",
    "    \n",
    "    # voc_v = np.append(voc_v, v)\n",
    "    # plt.hist(h, bins=bins, range=(-120, 120))\n",
    "    # plt.show()\n",
    "    \n",
    "# print(voc_v)\n",
    "# # n, bins, patches = plt.hist(voc_v, bins=10)\n",
    "h, b, _ = plt.hist(v, bins=bins, range=(-120, 120))\n",
    "print(bin_max-h)\n",
    "print(h-bin_min)\n",
    "er = np.concatenate(([h-bin_min], [bin_max-h]), axis=0)\n",
    "print(er.shape, ((b[1:]+b[:-1])/2).shape, h.shape)\n",
    "plt.errorbar((b[1:]+b[:-1])/2, h, er, 0, linestyle='none')\n",
    "plt.show()\n",
    "# print(h, b) "
   ]
  },
  {
   "cell_type": "code",
   "execution_count": 87,
   "id": "97d781ab-c5bc-485d-ac49-4533fbffc689",
   "metadata": {},
   "outputs": [
    {
     "data": {
      "application/vnd.jupyter.widget-view+json": {
       "model_id": "7452f20dbe3c410d843e47a411c9fd80",
       "version_major": 2,
       "version_minor": 0
      },
      "text/plain": [
       "  0%|          | 0/10000 [00:00<?, ?it/s]"
      ]
     },
     "metadata": {},
     "output_type": "display_data"
    },
    {
     "data": {
      "image/png": "[encoded data removed]",
      "text/plain": [
       "<Figure size 432x288 with 1 Axes>"
      ]
     },
     "metadata": {
      "needs_background": "light"
     },
     "output_type": "display_data"
    }
   ],
   "source": [
    "# 1\n",
    "\n",
    "N = 100\n",
    "sigma = 1\n",
    "x0 = 0\n",
    "s = np.random.normal(x0, sigma, 1000)\n",
    "num = 10000\n",
    "voc_rho = np.empty((0,))\n",
    "bins = 100\n",
    "for i in tqdm(range(num)):\n",
    "    A = np.random.choice(s, N*N).reshape((N, N))\n",
    "    A += A.T\n",
    "    v, _ = np.linalg.eig(A)\n",
    "    \n",
    "    v = np.repeat([v], N, axis=0)\n",
    "    v -= v.T\n",
    "    v += np.diag(np.repeat(np.max(v), N))\n",
    "    v = np.abs(v)\n",
    "    # print(np.min(v))\n",
    "    # print(np.repeat(np.max(v), N))\n",
    "    # print(np.diag(np.repeat(np.max(v), N)))\n",
    "    voc_rho = np.append(voc_rho, [np.min(v)])\n",
    "# print(voc_rho)\n",
    "_ = plt.hist(voc_rho, bins=50)"
   ]
  },
  {
   "cell_type": "code",
   "execution_count": null,
   "id": "ef1fe52a-dd18-4ecf-b32e-4e928e861aec",
   "metadata": {},
   "outputs": [],
   "source": []
  },
  {
   "cell_type": "code",
   "execution_count": null,
   "id": "1ce0cadc-6d5d-4ec6-b6b7-87b6d8fbb05c",
   "metadata": {},
   "outputs": [],
   "source": []
  }
 ],
 "metadata": {
  "kernelspec": {
   "display_name": "Python 3.10.7 64-bit (microsoft store)",
   "language": "python",
   "name": "python3"
  },
  "language_info": {
   "codemirror_mode": {
    "name": "ipython",
    "version": 3
   },
   "file_extension": ".py",
   "mimetype": "text/x-python",
   "name": "python",
   "nbconvert_exporter": "python",
   "pygments_lexer": "ipython3",
   "version": "3.10.7"
  },
  "vscode": {
   "interpreter": {
    "hash": "7536a19472fd4c7b155dfeefd0bd0374da7ccd6ca64fc4dcd8bb6a1714ff819c"
   }
  }
 },
 "nbformat": 4,
 "nbformat_minor": 5
}
