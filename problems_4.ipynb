{
 "cells": [
  {
   "cell_type": "markdown",
   "metadata": {},
   "source": [
    "# Task 4"
   ]
  },
  {
   "cell_type": "markdown",
   "metadata": {},
   "source": [
    "# Task 4.1\n",
    "\n",
    "Реализовать генератор матрциц, который должен поддерживать функции:\n",
    "* Генерация абсолютно случайной матрицы $n\\times m$\n",
    "* Генерация случайной диагональной матрицы $n\\times n$\n",
    "* Генерация случайной верхнетреугольной матрицы\n",
    "* Генерация случайной нижнетреугольной матрицы\n",
    "* Генерация симметричной матрицы\n",
    "* Генерация вырожденной матрицы\n",
    "* Генерация матрицы ступенчатого вида $n\\times n$ ранга $m$\n",
    "* Генерация возмущения матрицы $n\\times m$, каждый элемент которой не превосходит по модулю заданный $\\varepsilon$. Оценить величину нормы матрицы возмущений в зависимости от параметра $\\varepsilon$ (оценить верхную границу).\n",
    "\n",
    "Оценить численно вероятность того, что созданная матрица будет вырожденной для какого-либо случая выше. "
   ]
  },
  {
   "cell_type": "code",
   "execution_count": 283,
   "metadata": {},
   "outputs": [
    {
     "name": "stdout",
     "output_type": "stream",
     "text": [
      "3\n"
     ]
    }
   ],
   "source": [
    "import numpy as np\n",
    "\n",
    "def matrix_generate(rows, columns, type_ = \"full\", eps = 0):\n",
    "    \"\"\"\n",
    "    matrix_generate(rows, columns, type_ = \"full\")\n",
    "    \n",
    "    Создаёт случайную матрицу выбранного типа. \n",
    "    \n",
    "    Если матрицу нужных размеров создать нельзя должен выдать\n",
    "    строку f\"Error with type {type_} and shape ({rows},{columns})\".\n",
    "    \n",
    "    Parameters\n",
    "    ----------\n",
    "    \n",
    "    rows : int\n",
    "        Количество строк в создаваемой матрице.\n",
    "    columns : int\n",
    "        Количество столбцов в создаваемой матрице.\n",
    "    type_ : str, optional\n",
    "        Тип создаваемой матрицы: \"full\", \"upper_triangular\", \"symmetric\" и т.д.\n",
    "    eps: float, optional\n",
    "        Дополнительное число, использующееся при генерации для некоторых типов матриц.\n",
    "    \n",
    "    Returns\n",
    "    -------\n",
    "    out : ndarray or str\n",
    "        Выдаёт матрицу нужного типа либо ошибку.\n",
    "        \n",
    "    Notes\n",
    "    -----\n",
    "    Поддерживаемые типы матриц:\n",
    "        \"full\",\"upper_triangular\",\n",
    "        \"symmetric\",\n",
    "        ...\n",
    "    \n",
    "    \n",
    "    \"\"\"\n",
    "    \n",
    "    A = None\n",
    "\n",
    "    def jordan(n, a):\n",
    "        A = np.eye(n, n)*a\n",
    "        for i in range(n-1):\n",
    "            A[i, i+1] = 1\n",
    "        return A\n",
    "    \n",
    "    if type_ == \"full\":\n",
    "        \n",
    "        A = np.random.random(size=(rows, columns))\n",
    "        \n",
    "    elif type_ == \"upper_triangular\":\n",
    "        \n",
    "        A = np.random.random(size=(rows, columns))\n",
    "\n",
    "        for i in range(rows):\n",
    "            for j in range(columns):\n",
    "                if (i > j):\n",
    "                    A[i, j] = 0\n",
    "    \n",
    "        # Для нижнетреугольной подумайте, как сделать без циклов for :) (звёздочка)\n",
    "    \n",
    "    elif type_ == \"lower_triangular\":\n",
    "        \n",
    "        A = np.random.random(size=(rows, columns))\n",
    "\n",
    "        for i in range(rows):\n",
    "            for j in range(columns):\n",
    "                if (i < j):\n",
    "                    A[i, j] = 0\n",
    "\n",
    "    elif type_ == \"diag\":\n",
    "\n",
    "        if rows != columns:\n",
    "            return f\"Error with type {type_} and shape ({rows},{columns})\"\n",
    "\n",
    "        A = np.random.random(size=(rows, columns))\n",
    "        A = np.diag(np.diag(A))\n",
    "\n",
    "    elif type_ == \"symmetric\":\n",
    "        \n",
    "        if rows != columns:\n",
    "            return f\"Error with type {type_} and shape ({rows},{columns})\"\n",
    "        \n",
    "        else:\n",
    "            \n",
    "            A = np.random.random(size=(rows, columns))\n",
    "        \n",
    "            for i in range(rows):\n",
    "                for j in range(columns):\n",
    "                    if (i > j):\n",
    "                        A[i, j] = A[j, i]\n",
    "                        \n",
    "            # И эту секцую тоже перепишите без for (звёздочка). Учтите, что портить uniform распределение нельзя.\n",
    "\n",
    "    # elif type_ == 'stup':\n",
    "    #     A = np.random.random(size=(rows, rows))\n",
    "    #     print(A)\n",
    "    #     r = columns\n",
    "\n",
    "    #     m = np.random.choice(np.arange(r+1), size=r, replace=False)\n",
    "    #     m = np.sort(m)\n",
    "    #     print(m)\n",
    "\n",
    "    #     for i in range(len(m)-1):\n",
    "    #         # print(np.zeros(m[i+1]))\n",
    "    #         # print(A[m[i], 0:m[i+1]])\n",
    "    #         A[m[i], :m[i+1]] = np.zeros(m[i+1])\n",
    "\n",
    "    #     A[m[-1], :m[-1]] = np.zeros(m[-1])\n",
    "\n",
    "    #     # print(np.zeros(rows - m[-1]))\n",
    "\n",
    "    elif type_ == 'degen':\n",
    "        if rows != columns:\n",
    "            return f\"Error with type {type_} and shape ({rows},{columns})\"\n",
    "        \n",
    "        A = np.zeros((rows,rows))\n",
    "        n = np.random.randint(1, rows+1)\n",
    "        # print(n)\n",
    "        lamb = np.random.random(n)\n",
    "        zer = np.sort(np.random.choice(np.arange(0, n), size=np.random.randint(1,n+1), replace=False))\n",
    "        # print(lamb, zer)\n",
    "        lamb[zer] = 0\n",
    "        m = np.sort(np.random.choice(np.arange(1, rows), size=n-1, replace=False))\n",
    "        # print(m)\n",
    "        m = np.concatenate(([0], m))\n",
    "        m = np.concatenate((m, [rows]))\n",
    "        # print(m)\n",
    "        for i in range(n):\n",
    "            A[m[i]:m[i+1], m[i]:m[i+1]] = jordan(m[i+1]-m[i], lamb[i])\n",
    "        \n",
    "        B = np.random.random((rows,rows))\n",
    "        return B@A@np.linalg.inv(B)\n",
    "        # A = jordan(rows, 2)\n",
    "    \n",
    "    elif type_ == 'vozm':\n",
    "        A = np.random.choice(np.linspace(-eps, eps, 1000), size=(rows, columns))\n",
    "\n",
    "    return A\n",
    "\n",
    "# matrix_generate(3, 2, type_='stup')\n",
    "n = 10\n",
    "A = matrix_generate(n,n, 'degen')\n",
    "# print(A)\n",
    "print(np.linalg.matrix_rank(A))"
   ]
  },
  {
   "cell_type": "code",
   "execution_count": 154,
   "metadata": {},
   "outputs": [
    {
     "data": {
      "text/plain": [
       "2"
      ]
     },
     "execution_count": 154,
     "metadata": {},
     "output_type": "execute_result"
    }
   ],
   "source": [
    "np.random.randint(1,3)"
   ]
  },
  {
   "cell_type": "markdown",
   "metadata": {},
   "source": [
    "## Task 4.2\n",
    "\n",
    "$$L_1, L_2, L_{\\infty}$$"
   ]
  },
  {
   "cell_type": "code",
   "execution_count": 52,
   "metadata": {},
   "outputs": [
    {
     "name": "stdout",
     "output_type": "stream",
     "text": [
      "[ 6 15]\n"
     ]
    },
    {
     "data": {
      "text/plain": [
       "15"
      ]
     },
     "execution_count": 52,
     "metadata": {},
     "output_type": "execute_result"
    }
   ],
   "source": [
    "from scipy import linalg\n",
    "\n",
    "def Norma(A, type_='inf'):\n",
    "    norma = None\n",
    "    if type_ == 'inf':\n",
    "        if len(A.shape) == 1:\n",
    "            norma = A.max()\n",
    "        else:\n",
    "            # B = np.sum(np.abs(A), axis=1).max()\n",
    "            # print(B)\n",
    "            norma = np.sum(np.abs(A), axis=1).max()\n",
    "\n",
    "    if type_ == 'L1':\n",
    "        if len(A.shape) == 1:\n",
    "            norma = np.sum(np.abs(A))\n",
    "        else:\n",
    "            norma = np.sum(np.abs(A.T), axis=1).max()\n",
    "\n",
    "    if type_ == 'L2':\n",
    "        if len(A.shape) == 1:\n",
    "            norma = np.sqrt(np.sum(A**2))\n",
    "        else:\n",
    "            norma = np.sqrt(linalg.eigvals(A.T@A).max())\n",
    "    \n",
    "    return norma\n",
    "\n",
    "def chisl_obus(A, f, type_norm = 'inf'):\n",
    "    return Norma(A, type_norm)*Norma(linalg.inv(A), type_norm)\n",
    "\n",
    "\n",
    "\n",
    "# A = np.array([1, 2, 3])\n",
    "A = np.array([[1, 2, 3], [4,5,6]])\n",
    "Norma(A)"
   ]
  },
  {
   "cell_type": "markdown",
   "metadata": {},
   "source": [
    "## Task 4.3"
   ]
  },
  {
   "cell_type": "code",
   "execution_count": 94,
   "metadata": {},
   "outputs": [
    {
     "data": {
      "text/plain": [
       "2"
      ]
     },
     "execution_count": 94,
     "metadata": {},
     "output_type": "execute_result"
    }
   ],
   "source": [
    "def gauss(A, slu=False):\n",
    "    # print(b.reshape(-1, 1))\n",
    "    # B = np.concatenate((A, b.reshape(-1, 1)), axis=1)\n",
    "    # print(A)\n",
    "    n = 0\n",
    "    k = 0\n",
    "    if slu: k = 1\n",
    "    for i in range(A.shape[1]-k):\n",
    "        flag = False\n",
    "        for j in range(n, A.shape[0]):\n",
    "            if A[j, i] != 0:\n",
    "                flag = True\n",
    "                if j == n:\n",
    "                    break\n",
    "                else:\n",
    "                    A[[n, j], i] = A[[j, n], i]\n",
    "                    break\n",
    "        \n",
    "        if flag:\n",
    "            A[n, :] = A[n, :]/A[n, i]\n",
    "            for j in range(A.shape[0]):\n",
    "                if n != j:\n",
    "                    A[j, :] -= A[n, :]*A[j, i]\n",
    "        # print(A)\n",
    "        n += 1\n",
    "\n",
    "    return A\n",
    "\n",
    "def rk(A):\n",
    "    A = gauss(A)\n",
    "    # print(A.sum(axis=1))\n",
    "    A = A.sum(axis=1)\n",
    "    n = A[A != 0].shape[0]\n",
    "    return n\n",
    "            \n",
    "\n",
    "    # print(B)\n",
    "\n",
    "# A = np.array([[3,2,-5],[2,-1,3],[1,2,-1]]).astype('float32')\n",
    "# b = np.array([-1,13,9]).astype('float32')\n",
    "# A = np.array([[4,-3,2,-1],[3,-2,1,-3],[5,-3,1,-8]]).astype('float32')\n",
    "# b = np.array([8,7,1]).astype('float32')\n",
    "# B = np.array([[7,-2,-1],[6,-4,-5],[1,2,4]]).astype('float16')\n",
    "# b = np.array([2,3,5]).astype('float32')\n",
    "# B = np.concatenate((A, b.reshape(-1, 1)), axis=1)\n",
    "# B = np.array([[1,2,3,4],[0,1,-1,2],[0,1,-1,2],[0,2,-2,4]]).astype('float32')\n",
    "# gauss(B, True)\n",
    "rk(A)"
   ]
  },
  {
   "cell_type": "code",
   "execution_count": 105,
   "metadata": {},
   "outputs": [
    {
     "data": {
      "text/plain": [
       "array([3.0000007, 5.       , 4.0000005], dtype=float32)"
      ]
     },
     "execution_count": 105,
     "metadata": {},
     "output_type": "execute_result"
    }
   ],
   "source": [
    "def SLU(A, b):\n",
    "    B = np.concatenate((A, b.reshape(-1, 1)), axis=1)\n",
    "    B = gauss(B, True)[:, -1].reshape(-1)\n",
    "    return B\n",
    "\n",
    "type_ = 'float32'\n",
    "A = np.array([[3,2,-5],[2,-1,3],[1,2,-1]]).astype(type_)\n",
    "b = np.array([-1,13,9]).astype(type_)\n",
    "SLU(A, b)"
   ]
  },
  {
   "cell_type": "code",
   "execution_count": 124,
   "metadata": {},
   "outputs": [
    {
     "name": "stdout",
     "output_type": "stream",
     "text": [
      "-5.551115123125783e-17\n"
     ]
    },
    {
     "name": "stderr",
     "output_type": "stream",
     "text": [
      "C:\\Users\\vandy\\AppData\\Local\\Temp\\ipykernel_21800\\3762870695.py:3: DeprecationWarning: `np.float` is a deprecated alias for the builtin `float`. To silence this warning, use `float` by itself. Doing this will not modify any behavior and is safe. If you specifically wanted the numpy scalar type, use `np.float64` here.\n",
      "Deprecated in NumPy 1.20; for more details and guidance: https://numpy.org/devdocs/release/1.20.0-notes.html#deprecations\n",
      "  d = np.float(0.3)\n"
     ]
    }
   ],
   "source": [
    "a = np.float64(0.2)\n",
    "b = np.float64(0.1)\n",
    "d = np.float(0.3)\n",
    "print(d-(a+b))"
   ]
  }
 ],
 "metadata": {
  "kernelspec": {
   "display_name": "Python 3.10.7 64-bit (microsoft store)",
   "language": "python",
   "name": "python3"
  },
  "language_info": {
   "codemirror_mode": {
    "name": "ipython",
    "version": 3
   },
   "file_extension": ".py",
   "mimetype": "text/x-python",
   "name": "python",
   "nbconvert_exporter": "python",
   "pygments_lexer": "ipython3",
   "version": "3.10.8"
  },
  "orig_nbformat": 4,
  "vscode": {
   "interpreter": {
    "hash": "7536a19472fd4c7b155dfeefd0bd0374da7ccd6ca64fc4dcd8bb6a1714ff819c"
   }
  }
 },
 "nbformat": 4,
 "nbformat_minor": 2
}
