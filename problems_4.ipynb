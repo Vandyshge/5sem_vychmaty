{
 "cells": [
  {
   "cell_type": "markdown",
   "metadata": {},
   "source": [
    "# Task 4"
   ]
  },
  {
   "cell_type": "code",
   "execution_count": 354,
   "metadata": {},
   "outputs": [],
   "source": [
    "import matplotlib.pyplot as plt\n",
    "from time import time\n",
    "# !pip install tqdm\n",
    "from tqdm import tqdm\n",
    "import numpy as np\n",
    "from scipy import linalg as lg\n",
    "from scipy.optimize import minimize\n",
    "import scipy\n",
    "import time\n",
    "from sklearn.linear_model import LinearRegression"
   ]
  },
  {
   "cell_type": "markdown",
   "metadata": {},
   "source": [
    "# Task 4.1\n",
    "\n",
    "Реализовать генератор матрциц, который должен поддерживать функции:\n",
    "* Генерация абсолютно случайной матрицы $n\\times m$\n",
    "* Генерация случайной диагональной матрицы $n\\times n$\n",
    "* Генерация случайной верхнетреугольной матрицы\n",
    "* Генерация случайной нижнетреугольной матрицы\n",
    "* Генерация симметричной матрицы\n",
    "* Генерация вырожденной матрицы\n",
    "* Генерация матрицы ступенчатого вида $n\\times n$ ранга $m$\n",
    "* Генерация возмущения матрицы $n\\times m$, каждый элемент которой не превосходит по модулю заданный $\\varepsilon$. Оценить величину нормы матрицы возмущений в зависимости от параметра $\\varepsilon$ (оценить верхную границу).\n",
    "\n",
    "Оценить численно вероятность того, что созданная матрица будет вырожденной для какого-либо случая выше. "
   ]
  },
  {
   "cell_type": "code",
   "execution_count": 487,
   "metadata": {},
   "outputs": [],
   "source": [
    "import numpy as np\n",
    "\n",
    "def matrix_generate(rows, columns, type_ = \"full\", eps = 10):\n",
    "    \"\"\"\n",
    "    matrix_generate(rows, columns, type_ = \"full\")\n",
    "    \n",
    "    Создаёт случайную матрицу выбранного типа. \n",
    "    \n",
    "    Если матрицу нужных размеров создать нельзя должен выдать\n",
    "    строку f\"Error with type {type_} and shape ({rows},{columns})\".\n",
    "    \n",
    "    Parameters\n",
    "    ----------\n",
    "    \n",
    "    rows : int\n",
    "        Количество строк в создаваемой матрице.\n",
    "    columns : int\n",
    "        Количество столбцов в создаваемой матрице.\n",
    "    type_ : str, optional\n",
    "        Тип создаваемой матрицы: \"full\", \"upper_triangular\", \"symmetric\" и т.д.\n",
    "    eps: float, optional\n",
    "        Дополнительное число, использующееся при генерации для некоторых типов матриц.\n",
    "    \n",
    "    Returns\n",
    "    -------\n",
    "    out : ndarray or str\n",
    "        Выдаёт матрицу нужного типа либо ошибку.\n",
    "        \n",
    "    Notes\n",
    "    -----\n",
    "    Поддерживаемые типы матриц:\n",
    "        \"full\",\"upper_triangular\",\n",
    "        \"symmetric\",\n",
    "        ...\n",
    "    \n",
    "    \n",
    "    \"\"\"\n",
    "    \n",
    "    A = None\n",
    "\n",
    "    def jordan(n, a):\n",
    "        A = np.eye(n, n)*a\n",
    "        for i in range(n-1):\n",
    "            A[i, i+1] = 1\n",
    "        return A\n",
    "    \n",
    "    if type_ == \"full\":\n",
    "        A = np.random.random(size=(rows, columns))\n",
    "        \n",
    "    elif type_ == \"upper_triangular\":\n",
    "        \n",
    "        A = np.random.random(size=(rows, columns))\n",
    "\n",
    "        for i in range(rows):\n",
    "            for j in range(columns):\n",
    "                if (i > j):\n",
    "                    A[i, j] = 0\n",
    "    \n",
    "        # Для нижнетреугольной подумайте, как сделать без циклов for :) (звёздочка)\n",
    "    \n",
    "    elif type_ == \"lower_triangular\":\n",
    "        \n",
    "        A = np.random.random(size=(rows, columns))\n",
    "\n",
    "        for i in range(rows):\n",
    "            for j in range(columns):\n",
    "                if (i < j):\n",
    "                    A[i, j] = 0\n",
    "\n",
    "    elif type_ == \"diag\":\n",
    "\n",
    "        if rows != columns:\n",
    "            return f\"Error with type {type_} and shape ({rows},{columns})\"\n",
    "\n",
    "        A = np.random.random(size=(rows, columns))\n",
    "        A = np.diag(np.diag(A))\n",
    "\n",
    "    elif type_ == \"symmetric\":\n",
    "        \n",
    "        if rows != columns:\n",
    "            return f\"Error with type {type_} and shape ({rows},{columns})\"\n",
    "        \n",
    "        else:\n",
    "            \n",
    "            A = np.random.random(size=(rows, columns))\n",
    "        \n",
    "            for i in range(rows):\n",
    "                for j in range(columns):\n",
    "                    if (i > j):\n",
    "                        A[i, j] = A[j, i]\n",
    "                        \n",
    "            # И эту секцую тоже перепишите без for (звёздочка). Учтите, что портить uniform распределение нельзя.\n",
    "\n",
    "    elif type_ == 'stup':\n",
    "        if rows != columns:\n",
    "            return f\"Error with type {type_} and shape ({rows},{columns})\"\n",
    "\n",
    "        A = np.random.random(size=(rows, rows))\n",
    "        # print(A)\n",
    "        r = columns\n",
    "        N = np.random.randint(1, r)\n",
    "\n",
    "        flag = True\n",
    "        while flag:\n",
    "            m = np.random.choice(np.arange(r), size=N, replace=False)\n",
    "            m = np.sort(m)\n",
    "            if m.shape[0] == 1 and m[0] == 0:\n",
    "                pass\n",
    "            else:\n",
    "                break\n",
    "        # print(m)\n",
    "        # if len(m) == 1:\n",
    "        #     print(m[0])\n",
    "\n",
    "        m_ = 0\n",
    "        for i in range(rows):\n",
    "            if i == 0 and i not in m:\n",
    "                A[m[0]:, i] = np.zeros(rows - m[i])\n",
    "            elif i == rows-1 and i not in m:\n",
    "                pass\n",
    "            elif i not in m:\n",
    "                A[m[m_]:, i] = np.zeros(rows - m[m_])\n",
    "            else:\n",
    "                A[m[m_]:, i] = np.zeros(rows - m[m_])\n",
    "                if len(m) != 0 and m_ != len(m)-1: m_ += 1\n",
    "\n",
    "    elif type_ == 'degen':\n",
    "        if rows != columns:\n",
    "            return f\"Error with type {type_} and shape ({rows},{columns})\"\n",
    "        \n",
    "        A = np.zeros((rows,rows))\n",
    "        n = np.random.randint(1, rows+1)\n",
    "        # print(n)\n",
    "        lamb = np.random.randint(0, 10, (n,))\n",
    "        zer = np.sort(np.random.choice(np.arange(0, n), size=np.random.randint(1,n+1), replace=False))\n",
    "        # print(lamb, zer)\n",
    "        lamb[zer] = 0\n",
    "        m = np.sort(np.random.choice(np.arange(1, rows), size=n-1, replace=False))\n",
    "        # print(m)\n",
    "        m = np.concatenate(([0], m))\n",
    "        m = np.concatenate((m, [rows]))\n",
    "        # print(m)\n",
    "        for i in range(n):\n",
    "            A[m[i]:m[i+1], m[i]:m[i+1]] = jordan(m[i+1]-m[i], lamb[i])\n",
    "        \n",
    "        B = np.random.randint(0, 10, (rows,rows))\n",
    "        return B@A@np.linalg.inv(B)\n",
    "        # A = jordan(rows, 2)\n",
    "    \n",
    "    elif type_ == 'vozm':\n",
    "        A = np.random.choice(np.linspace(-eps, eps, 10000), size=(rows, columns))\n",
    "\n",
    "    return A"
   ]
  },
  {
   "cell_type": "code",
   "execution_count": 489,
   "metadata": {},
   "outputs": [
    {
     "name": "stdout",
     "output_type": "stream",
     "text": [
      "for vozm: p = 0.0\n",
      "for stup: p = 1.0\n",
      "for symmetric: p = 0.0\n",
      "for diag: p = 0.0\n",
      "for lower_triangular: p = 0.0\n",
      "for upper_triangular: p = 0.0\n",
      "for full: p = 0.0\n"
     ]
    }
   ],
   "source": [
    "voc = ['vozm', 'stup', 'symmetric', 'diag', 'lower_triangular', 'upper_triangular', 'full']\n",
    "\n",
    "N = 10000\n",
    "for elem in voc:\n",
    "    n = 0\n",
    "    for _ in range(N):\n",
    "        if np.linalg.matrix_rank(matrix_generate(5, 5, elem)) < 5:\n",
    "            n += 1\n",
    "    print(f'for {elem}: p = {n/N}')"
   ]
  },
  {
   "cell_type": "code",
   "execution_count": 491,
   "metadata": {},
   "outputs": [
    {
     "data": {
      "text/plain": [
       "array([[0.97396426, 0.64792153, 0.85828963],\n",
       "       [0.        , 0.        , 0.52661704],\n",
       "       [0.        , 0.        , 0.29766668]])"
      ]
     },
     "execution_count": 491,
     "metadata": {},
     "output_type": "execute_result"
    }
   ],
   "source": [
    "matrix_generate(3, 3, type_='stup')"
   ]
  },
  {
   "cell_type": "code",
   "execution_count": 391,
   "metadata": {},
   "outputs": [
    {
     "name": "stdout",
     "output_type": "stream",
     "text": [
      "[[-0.85435057  1.24211854 -0.02711223  1.52900378]\n",
      " [ 1.04161412  0.6406053  -0.43631778 -1.27742749]\n",
      " [ 0.89470366  0.77301387 -0.88083228 -0.46469105]\n",
      " [-0.76418663  0.96343001  0.19419924  1.09457755]]\n",
      "3\n"
     ]
    }
   ],
   "source": [
    "n = 4\n",
    "A = matrix_generate(n,n, 'degen')\n",
    "print(A)\n",
    "print(np.linalg.matrix_rank(A))\n",
    "# print(scipy.linalg.eigvals(A))"
   ]
  },
  {
   "cell_type": "code",
   "execution_count": 467,
   "metadata": {},
   "outputs": [
    {
     "data": {
      "text/plain": [
       "array([[ 30.93093093, -66.36636637,  57.95795796],\n",
       "       [ 76.17617618,  97.3973974 ,  -3.5035035 ],\n",
       "       [-78.57857858, -99.1991992 , -40.94094094]])"
      ]
     },
     "execution_count": 467,
     "metadata": {},
     "output_type": "execute_result"
    }
   ],
   "source": [
    "matrix_generate(3, 3, 'vozm', eps=100)"
   ]
  },
  {
   "cell_type": "markdown",
   "metadata": {},
   "source": [
    "## Task 4.2\n",
    "\n",
    "$$L_1, L_2, L_{\\infty}$$"
   ]
  },
  {
   "cell_type": "code",
   "execution_count": 440,
   "metadata": {},
   "outputs": [
    {
     "name": "stdout",
     "output_type": "stream",
     "text": [
      "2.9026334104101146\n",
      "3.597074355518628\n",
      "(2.6598884119138524+0j)\n",
      "67.39210789248762\n",
      "99.60510323976526\n",
      "(50.33510888618299+0j)\n"
     ]
    }
   ],
   "source": [
    "from scipy import linalg\n",
    "\n",
    "def Norma(A, type_='inf'):\n",
    "    norma = None\n",
    "    if type_ == 'inf':\n",
    "        if len(A.shape) == 1:\n",
    "            norma = A.max()\n",
    "        else:\n",
    "            # B = np.sum(np.abs(A), axis=1).max()\n",
    "            # print(B)\n",
    "            norma = np.sum(np.abs(A), axis=1).max()\n",
    "\n",
    "    if type_ == 'L1':\n",
    "        if len(A.shape) == 1:\n",
    "            norma = np.sum(np.abs(A))\n",
    "        else:\n",
    "            norma = np.sum(np.abs(A.T), axis=1).max()\n",
    "\n",
    "    if type_ == 'L2':\n",
    "        if len(A.shape) == 1:\n",
    "            norma = np.sqrt(np.sum(A**2))\n",
    "        else:\n",
    "            norma = np.sqrt(linalg.eigvals(A.T@A).max())\n",
    "    \n",
    "    return norma\n",
    "\n",
    "def chisl_obus(A, type_ = 'inf'):\n",
    "    if type_ == 'L1':\n",
    "        return Norma(A, type_=type_)*Norma(np.linalg.inv(A), type_=type_)\n",
    "    elif type_ == 'inf':\n",
    "        return Norma(A.T, type_='L1')*Norma(np.linalg.inv(A.T), type_='L1')\n",
    "    elif type_ == 'L2':\n",
    "        l = scipy.linalg.eigvals(A@A.T)\n",
    "        return np.sqrt(np.max(l)/np.min(l))\n",
    "    else:\n",
    "        return Norma(A, type_)*Norma(linalg.inv(A), type_)\n",
    "\n",
    "\n",
    "\n",
    "# A = np.array([1, 2, 3])\n",
    "# A = np.array([[1, 2, 3], [4,5,6]])\n",
    "A = np.random.random((4, 4))\n",
    "print(Norma(A, type_='inf'))\n",
    "print(Norma(A, type_='L1'))\n",
    "print(Norma(A, type_='L2'))\n",
    "print(chisl_obus(A, type_='inf'))\n",
    "print(chisl_obus(A, type_='L1'))\n",
    "print(chisl_obus(A, type_='L2'))"
   ]
  },
  {
   "cell_type": "markdown",
   "metadata": {},
   "source": [
    "## Task 4.3"
   ]
  },
  {
   "cell_type": "code",
   "execution_count": 412,
   "metadata": {},
   "outputs": [],
   "source": [
    "def gauss(A, slu=False):\n",
    "    # A = A.astype('float32')\n",
    "    # print(b.reshape(-1, 1))\n",
    "    # B = np.concatenate((A, b.reshape(-1, 1)), axis=1)\n",
    "    # print(A)\n",
    "    n = 0\n",
    "    k = 0\n",
    "    if slu: k = 1\n",
    "    for i in range(A.shape[1]-k):\n",
    "        flag = False\n",
    "        for j in range(n, A.shape[0]):\n",
    "            if A[j, i] != 0 or np.abs(A[j, i]) > 1e-3:\n",
    "                flag = True\n",
    "                if j == n:\n",
    "                    break\n",
    "                else:\n",
    "                    A[[n, j], i] = A[[j, n], i]\n",
    "                    break\n",
    "        \n",
    "        if flag:\n",
    "            A[n, :] = A[n, :]/A[n, i]\n",
    "            tmp = i+1\n",
    "            if slu: tmp = 0\n",
    "            for j in range(tmp, A.shape[0]):\n",
    "                if n != j:\n",
    "                    A[j, :] -= A[n, :]*A[j, i]\n",
    "        # print(A)\n",
    "        n += 1\n",
    "\n",
    "    return A\n",
    "\n",
    "def rk(A):\n",
    "    A = gauss(A)\n",
    "    print(A)\n",
    "    # print(A.sum(axis=1))\n",
    "    A = A.sum(axis=1)\n",
    "    n = A[A != 0].shape[0]\n",
    "    return n\n",
    "            \n",
    "\n",
    "    # print(B)"
   ]
  },
  {
   "cell_type": "code",
   "execution_count": 413,
   "metadata": {},
   "outputs": [
    {
     "name": "stdout",
     "output_type": "stream",
     "text": [
      "[[ 1.         0.6666667 -1.6666666]\n",
      " [-0.         1.        -2.7142854]\n",
      " [ 0.         0.         1.       ]]\n"
     ]
    }
   ],
   "source": [
    "A = np.array([[3,2,-5],[2,-1,3],[1,2,-1]], dtype=np.float32)\n",
    "print(gauss(A))\n",
    "# A = np.random.rand(3, 3)\n",
    "# print(A)\n",
    "# print(gauss(A))\n",
    "# b = np.array([-1,13,9]).astype('float32')\n",
    "# A = np.array([[4,-3,2,-1],[3,-2,1,-3],[5,-3,1,-8]]).astype('float32')\n",
    "# b = np.array([8,7,1]).astype('float32')\n",
    "# B = np.array([[7,-2,-1],[6,-4,-5],[1,2,4]]).astype('float16')\n",
    "# b = np.array([2,3,5]).astype('float32')\n",
    "# B = np.concatenate((A, b.reshape(-1, 1)), axis=1)\n",
    "# B = np.array([[1,2,3,4],[0,1,-1,2],[0,1,-1,2],[0,2,-2,4]]).astype('float32')\n",
    "# A = np.random.rand(3,3)\n",
    "# # gauss(B, True)\n"
   ]
  },
  {
   "cell_type": "code",
   "execution_count": 475,
   "metadata": {},
   "outputs": [
    {
     "name": "stdout",
     "output_type": "stream",
     "text": [
      "[[ 0.15684932  2.64726027 -1.59178082  1.51780822]\n",
      " [ 0.60479452  9.92808219 -5.33424658  0.54246575]\n",
      " [-0.50684932  3.60273973 -1.80821918  2.08219178]\n",
      " [ 3.88972603  0.65410959 -3.11232877  6.72328767]]\n",
      "3\n",
      "[[  1.          16.87772926 -10.14847162   9.6768559 ]\n",
      " [ -0.           1.          -2.875       19.        ]\n",
      " [  0.           0.           1.          -8.        ]\n",
      " [  0.           0.           0.           0.        ]]\n",
      "3\n"
     ]
    }
   ],
   "source": [
    "n = 4\n",
    "A = matrix_generate(n, n, 'degen')\n",
    "print(A)\n",
    "# print(scipy.linalg.eigvals(A))\n",
    "print(np.linalg.matrix_rank(A))\n",
    "# print(np.linalg.det(A))\n",
    "# print(A)\n",
    "print(rk(A))"
   ]
  },
  {
   "cell_type": "markdown",
   "metadata": {},
   "source": [
    "## Task 4.4"
   ]
  },
  {
   "cell_type": "code",
   "execution_count": 340,
   "metadata": {},
   "outputs": [],
   "source": [
    "def SLU(A):\n",
    "    A = gauss(A, True)\n",
    "    # print(A)\n",
    "    return A[:, -1].T"
   ]
  },
  {
   "cell_type": "code",
   "execution_count": 408,
   "metadata": {},
   "outputs": [
    {
     "data": {
      "text/plain": [
       "array([0.6000001, 1.5999999, 0.8000001], dtype=float32)"
      ]
     },
     "execution_count": 408,
     "metadata": {},
     "output_type": "execute_result"
    }
   ],
   "source": [
    "type_ = 'float32'\n",
    "A = np.array([[3,2,-5, 1],[2,-1,3,2],[1,2,-1,3]]).astype(type_)\n",
    "# A = np.array([[3,2,-5, 1],[2,-1,3,2],[1,2,-1,3]])\n",
    "SLU(A)"
   ]
  },
  {
   "cell_type": "code",
   "execution_count": 359,
   "metadata": {},
   "outputs": [
    {
     "name": "stderr",
     "output_type": "stream",
     "text": [
      "100%|██████████| 15/15 [09:01<00:00, 36.07s/it]\n"
     ]
    }
   ],
   "source": [
    "n = np.arange(100, 850, 50)\n",
    "\n",
    "t = []\n",
    "num = 10\n",
    "for n_ in tqdm(n):\n",
    "    tmp = 0\n",
    "    for _ in range(num):\n",
    "        A = np.random.random((n_, n_+1))\n",
    "        start = time.time()\n",
    "        SLU(A)\n",
    "        tmp += time.time() - start\n",
    "    t.append(tmp/num)"
   ]
  },
  {
   "cell_type": "code",
   "execution_count": 382,
   "metadata": {},
   "outputs": [
    {
     "data": {
      "image/png": "[encoded data removed]",
      "text/plain": [
       "<Figure size 432x288 with 1 Axes>"
      ]
     },
     "metadata": {
      "needs_background": "light"
     },
     "output_type": "display_data"
    }
   ],
   "source": [
    "x, y = n[:-2]**3, t[:-2]\n",
    "x, y = np.array(x), np.array(y)\n",
    "plt.scatter(x, y)\n",
    "regr = LinearRegression()\n",
    "# x_, y_ = x[2:], np.log(y[2:])\n",
    "regr.fit(x.reshape((-1, 1)), y)\n",
    "y_pred = regr.predict(x.reshape((-1, 1)))\n",
    "plt.plot(x, y_pred)\n",
    "# plt.yscale('log')\n",
    "plt.xlabel('$n^3$')\n",
    "plt.ylabel('t')\n",
    "plt.grid()\n",
    "plt.show()"
   ]
  },
  {
   "cell_type": "markdown",
   "metadata": {},
   "source": [
    "Метод Гаусса имеет сложность (для матрицы $n\\times m$) $O(mn^2)$"
   ]
  }
 ],
 "metadata": {
  "kernelspec": {
   "display_name": "Python 3.8.10 64-bit (microsoft store)",
   "language": "python",
   "name": "python3"
  },
  "language_info": {
   "codemirror_mode": {
    "name": "ipython",
    "version": 3
   },
   "file_extension": ".py",
   "mimetype": "text/x-python",
   "name": "python",
   "nbconvert_exporter": "python",
   "pygments_lexer": "ipython3",
   "version": "3.8.10"
  },
  "orig_nbformat": 4,
  "vscode": {
   "interpreter": {
    "hash": "41fc388e4a8728efc1b0380f965aa1f6ef12e829823cfab7a874823d70a39179"
   }
  }
 },
 "nbformat": 4,
 "nbformat_minor": 2
}
