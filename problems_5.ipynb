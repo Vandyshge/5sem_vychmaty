{
 "cells": [
  {
   "cell_type": "markdown",
   "metadata": {},
   "source": [
    "# Task 5"
   ]
  },
  {
   "cell_type": "code",
   "execution_count": 59,
   "metadata": {},
   "outputs": [
    {
     "name": "stdout",
     "output_type": "stream",
     "text": [
      "Requirement already satisfied: tqdm in c:\\users\\vandy\\appdata\\local\\packages\\pythonsoftwarefoundation.python.3.10_qbz5n2kfra8p0\\localcache\\local-packages\\python310\\site-packages (4.64.1)\n",
      "Requirement already satisfied: colorama in c:\\users\\vandy\\appdata\\local\\packages\\pythonsoftwarefoundation.python.3.10_qbz5n2kfra8p0\\localcache\\local-packages\\python310\\site-packages (from tqdm) (0.4.5)\n"
     ]
    }
   ],
   "source": [
    "import matplotlib.pyplot as plt\n",
    "from time import time\n",
    "!pip install tqdm\n",
    "from tqdm import tqdm\n",
    "import numpy as np\n",
    "from scipy import linalg as lg"
   ]
  },
  {
   "cell_type": "markdown",
   "metadata": {},
   "source": [
    "## Task 5.1"
   ]
  },
  {
   "cell_type": "code",
   "execution_count": 41,
   "metadata": {},
   "outputs": [
    {
     "name": "stderr",
     "output_type": "stream",
     "text": [
      "  0%|          | 0/15 [00:00<?, ?it/s]\n"
     ]
    },
    {
     "ename": "FloatingPointError",
     "evalue": "invalid value encountered in power",
     "output_type": "error",
     "traceback": [
      "\u001b[1;31m---------------------------------------------------------------------------\u001b[0m",
      "\u001b[1;31mFloatingPointError\u001b[0m                        Traceback (most recent call last)",
      "Cell \u001b[1;32mIn [41], line 35\u001b[0m\n\u001b[0;32m     33\u001b[0m     j \u001b[39m=\u001b[39m \u001b[39m2\u001b[39m\u001b[39m*\u001b[39m\u001b[39m*\u001b[39mi\n\u001b[0;32m     34\u001b[0m     x\u001b[39m.\u001b[39mappend(j)\n\u001b[1;32m---> 35\u001b[0m     y\u001b[39m.\u001b[39mappend(norma_Lp(A, \u001b[39m3\u001b[39;49m, n\u001b[39m=\u001b[39;49mj))\n\u001b[0;32m     36\u001b[0m     \u001b[39m# print(j)\u001b[39;00m\n\u001b[0;32m     38\u001b[0m plt\u001b[39m.\u001b[39mplot(x, y)\n",
      "Cell \u001b[1;32mIn [41], line 17\u001b[0m, in \u001b[0;36mnorma_Lp\u001b[1;34m(A, p, n)\u001b[0m\n\u001b[0;32m     13\u001b[0m x \u001b[39m/\u001b[39m\u001b[39m=\u001b[39m norm_vec_p(x, \u001b[39m2\u001b[39m)\n\u001b[0;32m     14\u001b[0m \u001b[39m# print(A)\u001b[39;00m\n\u001b[0;32m     15\u001b[0m \u001b[39m# print(x)\u001b[39;00m\n\u001b[0;32m     16\u001b[0m \u001b[39m# print(A@x)\u001b[39;00m\n\u001b[1;32m---> 17\u001b[0m tmp \u001b[39m=\u001b[39m norm_vec_p(A\u001b[39m@x\u001b[39;49m, p)\n\u001b[0;32m     18\u001b[0m \u001b[39mif\u001b[39;00m i \u001b[39m==\u001b[39m \u001b[39m0\u001b[39m:\n\u001b[0;32m     19\u001b[0m     norma \u001b[39m=\u001b[39m tmp\n",
      "Cell \u001b[1;32mIn [41], line 6\u001b[0m, in \u001b[0;36mnorm_vec_p\u001b[1;34m(A, p)\u001b[0m\n\u001b[0;32m      4\u001b[0m x \u001b[39m=\u001b[39m np\u001b[39m.\u001b[39msum(x)\n\u001b[0;32m      5\u001b[0m \u001b[39m# print(x, np.float32(1/p))\u001b[39;00m\n\u001b[1;32m----> 6\u001b[0m \u001b[39mreturn\u001b[39;00m np\u001b[39m.\u001b[39;49mpower(x,(\u001b[39m1\u001b[39;49m\u001b[39m/\u001b[39;49mp))\n",
      "\u001b[1;31mFloatingPointError\u001b[0m: invalid value encountered in power"
     ]
    }
   ],
   "source": [
    "def norm_vec_p(A, p):\n",
    "    # np.seterr('raise')\n",
    "    x = A**p\n",
    "    x = np.sum(x)\n",
    "    # print(x, np.float32(1/p))\n",
    "    return np.power(x,(1/p))\n",
    "    # return (np.sum(A**p))**(1/p)\n",
    "\n",
    "def norma_Lp(A, p, n=500):\n",
    "    norma = None\n",
    "    for i in range(n):\n",
    "        x = np.random.choice(np.linspace(-100, 100, 10000), A.shape[1])\n",
    "        x /= norm_vec_p(x, 2)\n",
    "        # print(A)\n",
    "        # print(x)\n",
    "        # print(A@x)\n",
    "        tmp = norm_vec_p(A@x, p)\n",
    "        if i == 0:\n",
    "            norma = tmp\n",
    "        else:\n",
    "            if tmp > norma: norma = tmp\n",
    "        # break\n",
    "    return norma\n",
    "\n",
    "def chisl_obus(A, p):\n",
    "    return norma_Lp(A, p)*norma_Lp(linalg.inv(A), p)\n",
    "\n",
    "# A = np.array([[1, 2, 3]])\n",
    "A = np.arange(12).reshape((3,4))\n",
    "x = []\n",
    "y = []\n",
    "for i in tqdm(range(15)):\n",
    "    j = 2**i\n",
    "    x.append(j)\n",
    "    y.append(norma_Lp(A, 3, n=j))\n",
    "    # print(j)\n",
    "\n",
    "plt.plot(x, y)\n",
    "plt.grid()\n",
    "plt.xscale('log')\n",
    "# plt.yscale('log')\n",
    "plt.show()"
   ]
  },
  {
   "cell_type": "markdown",
   "metadata": {},
   "source": [
    "## Task 5.2\n"
   ]
  },
  {
   "cell_type": "code",
   "execution_count": null,
   "metadata": {},
   "outputs": [],
   "source": []
  },
  {
   "cell_type": "markdown",
   "metadata": {},
   "source": [
    "## Task 5.3\n"
   ]
  },
  {
   "cell_type": "code",
   "execution_count": 76,
   "metadata": {},
   "outputs": [
    {
     "name": "stdout",
     "output_type": "stream",
     "text": [
      "[[2 0]\n",
      " [0 2]]\n",
      "L: [[1 0]\n",
      " [0 0]] [[1.41421356 0.        ]\n",
      " [0.         1.41421356]]\n",
      "1 2\n",
      "----------------------\n",
      "[[1 0]\n",
      " [0 1]]\n",
      "[[1 0]\n",
      " [0 1]]\n"
     ]
    }
   ],
   "source": [
    "def cholesky(A):\n",
    "    L = np.zeros_like(A)\n",
    "    L[0,0] = np.sqrt(A[0,0])\n",
    "    L[1:,0] = A[1:,0]/A[0,0]\n",
    "    print('L:', L, lg.cholesky(A))\n",
    "    for i in range(1, A.shape[0]):\n",
    "        for j in range(1, i+1):\n",
    "            if i == j:\n",
    "                print(i, A[i,i] - np.sum(L[i,:i]**2))\n",
    "                L[i,i] = np.sqrt(A[i,i] - np.sum(L[i,:i]**2))\n",
    "            else:\n",
    "                L[i,j] = (A[i,j] - np.sum(L[i,:j]*L[j,:j]))/L[j,j]\n",
    "    print('----------------------')\n",
    "    return L\n",
    "\n",
    "def task3(cov):\n",
    "    s = lg.cholesky(cov)\n",
    "    z = np.random.normal(0, 1, cov.shape[0])\n",
    "\n",
    "    return x\n",
    "\n",
    "# A = np.random.randint(0, 10, (3,3))\n",
    "# print(A@A.T)\n",
    "# B = A*A.T\n",
    "# print(A)\n",
    "B = np.array([[1,1],[-1,1]])\n",
    "B = B+B.T\n",
    "print(B)\n",
    "L = cholesky(B)\n",
    "print(L)\n",
    "print(L@L.T)"
   ]
  },
  {
   "cell_type": "markdown",
   "metadata": {},
   "source": [
    "## Task 5.4"
   ]
  },
  {
   "cell_type": "code",
   "execution_count": null,
   "metadata": {},
   "outputs": [],
   "source": []
  }
 ],
 "metadata": {
  "kernelspec": {
   "display_name": "Python 3.10.7 64-bit (microsoft store)",
   "language": "python",
   "name": "python3"
  },
  "language_info": {
   "codemirror_mode": {
    "name": "ipython",
    "version": 3
   },
   "file_extension": ".py",
   "mimetype": "text/x-python",
   "name": "python",
   "nbconvert_exporter": "python",
   "pygments_lexer": "ipython3",
   "version": "3.10.8"
  },
  "orig_nbformat": 4,
  "vscode": {
   "interpreter": {
    "hash": "7536a19472fd4c7b155dfeefd0bd0374da7ccd6ca64fc4dcd8bb6a1714ff819c"
   }
  }
 },
 "nbformat": 4,
 "nbformat_minor": 2
}
