{
 "cells": [
  {
   "cell_type": "code",
   "execution_count": 91,
   "id": "2012ee38-fd9a-4641-85c9-7ff22f356ce7",
   "metadata": {},
   "outputs": [],
   "source": [
    "import matplotlib.pyplot as plt\n",
    "from time import time\n",
    "import tqdm\n",
    "import numpy as np"
   ]
  },
  {
   "cell_type": "markdown",
   "id": "4546d3e1-b3c1-48f5-bab2-b4ede9b50164",
   "metadata": {},
   "source": [
    "## Task 1"
   ]
  },
  {
   "cell_type": "markdown",
   "id": "1d8fcf6f-5baa-491d-8805-b35128e13e58",
   "metadata": {
    "tags": []
   },
   "source": [
    "$$\\mathscr{L} = \\sum^n_{i=1} (y_i - \\hat{y})^2 \\quad \\longrightarrow \\quad min(\\hat{y})\\, \\mathscr{L}$$\n",
    "$$\\frac{\\partial \\mathscr{L}}{\\partial \\hat{y}} = \\sum^n_{i=1} 2(y_i - \\hat{y})(-1) = 0$$\n",
    "$$\\hat{y} = \\frac{\\sum^n_{i=1} y_i^2}{n}$$"
   ]
  },
  {
   "cell_type": "markdown",
   "id": "a1d9e78d-8cea-48d7-a389-facc34d6a0a3",
   "metadata": {
    "tags": []
   },
   "source": [
    "## Task 2"
   ]
  },
  {
   "cell_type": "code",
   "execution_count": 98,
   "id": "3630712b-7c25-41b7-874d-959dc94a9adc",
   "metadata": {},
   "outputs": [],
   "source": [
    "import seaborn as sns\n",
    "\n",
    "data = sns.load_dataset('anscombe')\n",
    "# data"
   ]
  },
  {
   "cell_type": "code",
   "execution_count": 90,
   "id": "86b7c947-746e-4690-b9dc-858dd9840934",
   "metadata": {},
   "outputs": [
    {
     "name": "stdout",
     "output_type": "stream",
     "text": [
      "dataset=I\n",
      "    var_x=10.0 10.0\n",
      "    var_y=3.7520628099173554\n",
      "    coef_Pir=0.81642051634484\n",
      "dataset=II\n",
      "    var_x=10.0 10.0\n",
      "    var_y=3.752390082644628\n",
      "    coef_Pir=0.8162365060002428\n",
      "dataset=III\n",
      "    var_x=10.0 10.0\n",
      "    var_y=3.747836363636364\n",
      "    coef_Pir=0.8162867394895984\n",
      "dataset=IV\n",
      "    var_x=10.0 10.0\n",
      "    var_y=3.7484082644628103\n",
      "    coef_Pir=0.8165214368885028\n"
     ]
    },
    {
     "data": {
      "image/png": "[encoded data removed]",
      "text/plain": [
       "<Figure size 432x288 with 4 Axes>"
      ]
     },
     "metadata": {
      "needs_background": "light"
     },
     "output_type": "display_data"
    }
   ],
   "source": [
    "# data\n",
    "# voc = ['I', 'II', 'III', 'IV']\n",
    "fig, axs = plt.subplots(2, 2)\n",
    "for i in range(len(voc)):\n",
    "    # df = data[:][11*i:11*(i+1)]\n",
    "    x, y = np.array(data[\"x\"][11*i:11*(i+1)]), np.array(data[\"y\"][11*i:11*(i+1)])\n",
    "    # print(df)\n",
    "    s = f'''dataset={data[\"dataset\"][11*i]}\n",
    "    var_x={np.var(x)} {np.mean((x - x.mean()) ** 2)}\n",
    "    var_y={np.var(y)}\n",
    "    coef_Pir={np.corrcoef(x, y)[0, 1]}'''\n",
    "    print(s)\n",
    "    axs[i//2][i%2].scatter(x, y, label=f'dataset={data[\"dataset\"][11*i]}')\n",
    "    axs[i//2][i%2].grid()\n",
    "    axs[i//2][i%2].legend()\n",
    "              \n",
    "# fig.grid()\n",
    "plt.show()\n",
    "# data['dataset'] == ''"
   ]
  },
  {
   "cell_type": "markdown",
   "id": "cd864b57-e5d2-4b6a-b9f5-7b2cbc1a9067",
   "metadata": {},
   "source": [
    "## Task 4"
   ]
  },
  {
   "cell_type": "code",
   "execution_count": 123,
   "id": "ed55b4ca-d446-4435-bfc8-49ae3f9d7015",
   "metadata": {},
   "outputs": [
    {
     "name": "stdout",
     "output_type": "stream",
     "text": [
      "[6.80239476 6.90775528 7.00306546 7.09007684 7.17011954 7.24422752]\n"
     ]
    },
    {
     "data": {
      "text/plain": [
       "[<matplotlib.lines.Line2D at 0x7fd4b4efc220>]"
      ]
     },
     "execution_count": 123,
     "metadata": {},
     "output_type": "execute_result"
    },
    {
     "data": {
      "image/png": "[encoded data removed]",
      "text/plain": [
       "<Figure size 432x288 with 1 Axes>"
      ]
     },
     "metadata": {
      "needs_background": "light"
     },
     "output_type": "display_data"
    }
   ],
   "source": [
    "from sklearn.linear_model import LinearRegression\n",
    "\n",
    "data = np.genfromtxt('5.8.1.txt')[:-1, :2]\n",
    "x, y = data[:, 0], data[:, 1]\n",
    "plt.scatter(x, y)\n",
    "plt.grid()\n",
    "\n",
    "regr = LinearRegression()\n",
    "# x = np.concatenate(([x], [np.ones_like(x)]), axis=0)\n",
    "print(x)\n",
    "\n",
    "regr.fit(x.reshape((-1, 1)), y)\n",
    "y_pred = regr.predict(x.reshape((-1, 1)))\n",
    "plt.plot(x, y_pred)"
   ]
  },
  {
   "cell_type": "code",
   "execution_count": null,
   "id": "b4769c1e-4da2-4352-af5e-446d4ebee796",
   "metadata": {},
   "outputs": [],
   "source": []
  }
 ],
 "metadata": {
  "kernelspec": {
   "display_name": "Python 3.8.10 64-bit (microsoft store)",
   "language": "python",
   "name": "python3"
  },
  "language_info": {
   "codemirror_mode": {
    "name": "ipython",
    "version": 3
   },
   "file_extension": ".py",
   "mimetype": "text/x-python",
   "name": "python",
   "nbconvert_exporter": "python",
   "pygments_lexer": "ipython3",
   "version": "3.8.10"
  },
  "vscode": {
   "interpreter": {
    "hash": "41fc388e4a8728efc1b0380f965aa1f6ef12e829823cfab7a874823d70a39179"
   }
  }
 },
 "nbformat": 4,
 "nbformat_minor": 5
}
