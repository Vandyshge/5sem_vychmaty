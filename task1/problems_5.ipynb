{
 "cells": [
  {
   "cell_type": "markdown",
   "metadata": {},
   "source": [
    "# Task 5"
   ]
  },
  {
   "cell_type": "code",
   "execution_count": 2,
   "metadata": {},
   "outputs": [],
   "source": [
    "import matplotlib.pyplot as plt\n",
    "from time import time\n",
    "# !pip install tqdm\n",
    "from tqdm import tqdm\n",
    "import numpy as np\n",
    "from scipy import linalg as lg\n",
    "from scipy.optimize import minimize\n",
    "import scipy"
   ]
  },
  {
   "cell_type": "markdown",
   "metadata": {},
   "source": [
    "## Task 5.1"
   ]
  },
  {
   "cell_type": "code",
   "execution_count": 12,
   "metadata": {},
   "outputs": [],
   "source": [
    "def norm_vec_p(A, p):\n",
    "    # np.seterr('raise')\n",
    "    return (np.sum(A**p))**(1/p)\n",
    "\n",
    "def norma_Lp(A, p, n=10000):\n",
    "    norma = None\n",
    "    for i in tqdm(range(n)):\n",
    "        x = np.random.choice(np.linspace(0.001, 100, 100000), A.shape[1])\n",
    "        x /= norm_vec_p(x, p)\n",
    "        tmp = norm_vec_p(A@x, p)\n",
    "        if i == 0:\n",
    "            norma = tmp\n",
    "        else:\n",
    "            if tmp > norma: norma = tmp\n",
    "    return norma\n",
    "\n",
    "def chisl_obus(A, p):\n",
    "    return norma_Lp(A, p)*norma_Lp(lg.inv(A), p)"
   ]
  },
  {
   "cell_type": "code",
   "execution_count": 5,
   "metadata": {},
   "outputs": [],
   "source": [
    "from scipy import linalg\n",
    "\n",
    "def Norma(A, type_='inf'):\n",
    "    norma = None\n",
    "    if type_ == 'inf':\n",
    "        if len(A.shape) == 1:\n",
    "            norma = A.max()\n",
    "        else:\n",
    "            # B = np.sum(np.abs(A), axis=1).max()\n",
    "            # print(B)\n",
    "            norma = np.sum(np.abs(A), axis=1).max()\n",
    "\n",
    "    if type_ == 'L1':\n",
    "        if len(A.shape) == 1:\n",
    "            norma = np.sum(np.abs(A))\n",
    "        else:\n",
    "            norma = np.sum(np.abs(A.T), axis=1).max()\n",
    "\n",
    "    if type_ == 'L2':\n",
    "        if len(A.shape) == 1:\n",
    "            norma = np.sqrt(np.sum(A**2))\n",
    "        else:\n",
    "            norma = np.sqrt(linalg.eigvals(A.T@A).max())\n",
    "    \n",
    "    return norma\n",
    "\n",
    "def chisl_obus(A, type_ = 'inf'):\n",
    "    if type_ == 'L1':\n",
    "        return Norma(A, type_=type_)*Norma(np.linalg.inv(A), type_=type_)\n",
    "    elif type_ == 'inf':\n",
    "        return Norma(A.T, type_='L1')*Norma(np.linalg.inv(A.T), type_='L1')\n",
    "    elif type_ == 'L2':\n",
    "        l = scipy.linalg.eigvals(A@A.T)\n",
    "        return np.sqrt(np.max(l)/np.min(l))\n",
    "    else:\n",
    "        return Norma(A, type_)*Norma(linalg.inv(A), type_)\n",
    "\n",
    "\n",
    "\n",
    "# A = np.array([1, 2, 3])\n",
    "# A = np.array([[1, 2, 3], [4,5,6]])\n",
    "# A = np.random.random((4, 4))\n",
    "# print(Norma(A, type_='inf'))\n",
    "# print(Norma(A, type_='L1'))\n",
    "# print(Norma(A, type_='L2'))\n",
    "# print(chisl_obus(A, type_='inf'))\n",
    "# print(chisl_obus(A, type_='L1'))\n",
    "# print(chisl_obus(A, type_='L2'))"
   ]
  },
  {
   "cell_type": "code",
   "execution_count": 160,
   "metadata": {},
   "outputs": [
    {
     "name": "stderr",
     "output_type": "stream",
     "text": [
      "100%|██████████| 17/17 [01:18<00:00,  4.59s/it]\n"
     ]
    },
    {
     "data": {
      "image/png": "[encoded data removed]",
      "text/plain": [
       "<Figure size 432x288 with 1 Axes>"
      ]
     },
     "metadata": {
      "needs_background": "light"
     },
     "output_type": "display_data"
    }
   ],
   "source": [
    "# A = np.array([[1, 2, 3]])\n",
    "# A = np.arange(12).reshape((3,4))\n",
    "A = np.random.rand(3, 4)\n",
    "x = []\n",
    "y = []\n",
    "# mu = []\n",
    "for i in tqdm(range(17)):\n",
    "    j = 2**i\n",
    "    x.append(j)\n",
    "    y.append(norma_Lp(A, 3, n=j))\n",
    "\n",
    "plt.plot(x, y)\n",
    "plt.grid()\n",
    "plt.xscale('log')\n",
    "plt.yscale('log')\n",
    "plt.show()"
   ]
  },
  {
   "cell_type": "code",
   "execution_count": 165,
   "metadata": {},
   "outputs": [
    {
     "name": "stderr",
     "output_type": "stream",
     "text": [
      "C:\\Users\\Xiaomi\\AppData\\Local\\Temp\\ipykernel_2204\\2441253878.py:3: RuntimeWarning: invalid value encountered in double_scalars\n",
      "  return (np.sum(A**p))**(1/p)\n"
     ]
    },
    {
     "data": {
      "text/plain": [
       "(1.3187199383771122, 5.732511954836884)"
      ]
     },
     "execution_count": 165,
     "metadata": {},
     "output_type": "execute_result"
    }
   ],
   "source": [
    "A = np.random.rand(3, 3)\n",
    "norma_Lp(A, 3), chisl_obus(A, 3)"
   ]
  },
  {
   "cell_type": "code",
   "execution_count": null,
   "metadata": {},
   "outputs": [],
   "source": []
  },
  {
   "cell_type": "code",
   "execution_count": 8,
   "metadata": {},
   "outputs": [
    {
     "data": {
      "text/plain": [
       "(1.5873519880209752, (1.5873966696202493+0j))"
      ]
     },
     "execution_count": 8,
     "metadata": {},
     "output_type": "execute_result"
    }
   ],
   "source": [
    "A = np.random.rand(3, 3)\n",
    "norma_Lp(A, 2), Norma(A, type_='L2')"
   ]
  },
  {
   "cell_type": "code",
   "execution_count": 14,
   "metadata": {},
   "outputs": [
    {
     "name": "stderr",
     "output_type": "stream",
     "text": [
      "100%|██████████| 10000/10000 [00:05<00:00, 1750.64it/s]\n"
     ]
    },
    {
     "data": {
      "text/plain": [
       "(1.3756389907705393, 1.3870818488339713)"
      ]
     },
     "execution_count": 14,
     "metadata": {},
     "output_type": "execute_result"
    }
   ],
   "source": [
    "A = np.random.rand(3, 3)\n",
    "norma_Lp(A, 100, n=10000), Norma(A, type_='inf')"
   ]
  },
  {
   "cell_type": "markdown",
   "metadata": {},
   "source": [
    "## Task 5.2\n"
   ]
  },
  {
   "cell_type": "code",
   "execution_count": 64,
   "metadata": {},
   "outputs": [],
   "source": [
    "def norma_frob(A):\n",
    "    U, s, Vh = scipy.linalg.svd(A)\n",
    "    return np.sqrt(np.sum(s**2))\n",
    "\n",
    "def norma_L2(A):\n",
    "    return np.sqrt(np.max(scipy.linalg.eigvals(A.T@A)))"
   ]
  },
  {
   "cell_type": "code",
   "execution_count": 69,
   "metadata": {},
   "outputs": [
    {
     "name": "stderr",
     "output_type": "stream",
     "text": [
      "100%|██████████| 1000/1000 [00:05<00:00, 171.64it/s]\n",
      "C:\\Users\\Xiaomi\\AppData\\Local\\Packages\\PythonSoftwareFoundation.Python.3.8_qbz5n2kfra8p0\\LocalCache\\local-packages\\Python38\\site-packages\\numpy\\core\\_asarray.py:171: ComplexWarning: Casting complex values to real discards the imaginary part\n",
      "  return array(a, dtype, copy=False, order=order, subok=True)\n"
     ]
    },
    {
     "name": "stdout",
     "output_type": "stream",
     "text": [
      "res: True\n"
     ]
    },
    {
     "data": {
      "image/png": "[encoded data removed]",
      "text/plain": [
       "<Figure size 432x288 with 1 Axes>"
      ]
     },
     "metadata": {
      "needs_background": "light"
     },
     "output_type": "display_data"
    },
    {
     "data": {
      "image/png": "[encoded data removed]",
      "text/plain": [
       "<Figure size 432x288 with 1 Axes>"
      ]
     },
     "metadata": {
      "needs_background": "light"
     },
     "output_type": "display_data"
    },
    {
     "name": "stdout",
     "output_type": "stream",
     "text": [
      "1.1498446928987593\n"
     ]
    }
   ],
   "source": [
    "flag = True\n",
    "out = []\n",
    "for i in tqdm(range(1000)):\n",
    "    n = np.random.randint(1, 100)\n",
    "    A = np.random.random((n, n))\n",
    "    A2 = norma_L2(A)\n",
    "    Af = norma_frob(A)\n",
    "    if Af/np.sqrt(n) > A2:\n",
    "        flag = False\n",
    "    if Af < A2:\n",
    "        flag = False\n",
    "    out.append([n, Af/np.sqrt(n), A2, Af, Af/A2])\n",
    "out = np.array(out)\n",
    "print(f'res: {flag}')\n",
    "plt.scatter(out[:, 0], out[:, 1], label='$|A|_F/\\\\sqrt{n}$')\n",
    "plt.scatter(out[:, 0], out[:, 2], label='$|A|_2$')\n",
    "plt.scatter(out[:, 0], out[:, 3], label='$|A|_F$')\n",
    "plt.legend()\n",
    "plt.grid()\n",
    "plt.show()\n",
    "\n",
    "plt.scatter(out[:, 0], out[:, 4], label='$|A|_F/|A|_2$')\n",
    "plt.legend()\n",
    "plt.grid()\n",
    "plt.show()\n",
    "print(np.real(out[out[:, 0]>60, 4].mean()))"
   ]
  },
  {
   "cell_type": "code",
   "execution_count": 72,
   "metadata": {},
   "outputs": [
    {
     "name": "stdout",
     "output_type": "stream",
     "text": [
      "0.9282273687951449 0.042922243068941844\n"
     ]
    }
   ],
   "source": [
    "\n",
    "out = []\n",
    "for i in range(10000):\n",
    "    n = np.random.randint(1, 10)\n",
    "    A = np.random.random((n, n))\n",
    "    A2 = norma_L2(A)\n",
    "    Af = norma_frob(A)\n",
    "    out.append(A2/Af)\n",
    "\n",
    "out = np.array(out)\n",
    "print(np.real(out.mean()), np.sqrt(out.var()))\n"
   ]
  },
  {
   "cell_type": "markdown",
   "metadata": {},
   "source": [
    "## Task 5.3\n"
   ]
  },
  {
   "cell_type": "code",
   "execution_count": 96,
   "metadata": {},
   "outputs": [
    {
     "name": "stdout",
     "output_type": "stream",
     "text": [
      "A:\n",
      "[[1.26717971 0.8273541  1.01523512]\n",
      " [0.8273541  1.67042394 1.0760669 ]\n",
      " [1.01523512 1.0760669  1.93132888]]\n",
      "True L:\n",
      "[[1.12569077 0.         0.        ]\n",
      " [0.73497458 1.06312572 0.        ]\n",
      " [0.90187745 0.38867454 0.98329957]]\n",
      "L:\n",
      "[[1.12569077 0.         0.        ]\n",
      " [0.73497458 1.06312572 0.        ]\n",
      " [0.90187745 0.38867454 0.98329957]]\n",
      "L@L.T:\n",
      "[[1.26717971 0.8273541  1.01523512]\n",
      " [0.8273541  1.67042394 1.0760669 ]\n",
      " [1.01523512 1.0760669  1.93132888]]\n",
      "res: 0.0\n",
      "\n",
      "task3\n",
      "[1.81922838 0.56474659 0.52060059]\n"
     ]
    }
   ],
   "source": [
    "def pol_opr(n):\n",
    "    flag = True\n",
    "    while flag:\n",
    "        # A = np.random.randint(1, 100, (n,n))\n",
    "        A = np.random.rand(n, n)\n",
    "        A = A + A.T\n",
    "        if np.all(scipy.linalg.eigvals(A) > 0):\n",
    "            flag = False\n",
    "    return A\n",
    "\n",
    "def cholesky(A):\n",
    "    L = np.zeros_like(A)\n",
    "    L[0,0] = np.sqrt(A[0,0])\n",
    "    L[1:,0] = A[1:,0]/L[0,0]\n",
    "    # print('L:', L, lg.cholesky(A))\n",
    "    for i in range(1, A.shape[0]):\n",
    "        for j in range(1, i+1):\n",
    "            if i == j:\n",
    "                # print(i, A[i,i] - np.sum(L[i,:i]**2))\n",
    "                L[i,i] = np.sqrt(A[i,i] - np.sum(L[i,:i]**2))\n",
    "            else:\n",
    "                L[i,j] = (A[i,j] - np.sum(L[i,:j]*L[j,:j]))/L[j,j]\n",
    "    # print('----------------------')\n",
    "    return L\n",
    "\n",
    "def task3(cov):\n",
    "    L = cholesky(cov)\n",
    "    loc = np.random.rand(cov.shape[0])\n",
    "    z = np.random.normal(loc, 1, cov.shape[0])\n",
    "    return loc + L@z\n",
    "\n",
    "A = pol_opr(3)\n",
    "print('A:')\n",
    "print(A)\n",
    "print('True L:')\n",
    "print(scipy.linalg.cholesky(A).T)\n",
    "L = cholesky(A)\n",
    "print('L:')\n",
    "print(L)\n",
    "print('L@L.T:')\n",
    "print(L@L.T)\n",
    "print(f'res: {np.sum(L@L.T - A)}')\n",
    "print()\n",
    "print('task3')\n",
    "print(task3(A))"
   ]
  },
  {
   "cell_type": "markdown",
   "metadata": {},
   "source": [
    "## Task 5.4"
   ]
  },
  {
   "cell_type": "code",
   "execution_count": 16,
   "metadata": {},
   "outputs": [],
   "source": [
    "def prokrust(X1, X2):\n",
    "    x1 = np.mean(X1, axis=0).reshape(2, 1)\n",
    "    # print(x1)\n",
    "    x2 = np.mean(X2, axis=0).reshape(2, 1)\n",
    "    X1_, X2_ = X1 - x1.T, X2 - x2.T\n",
    "    U, s, Vh = scipy.linalg.svd(X1_.T@X2)\n",
    "    R = U@Vh\n",
    "    mu = x2 - R.T@x1\n",
    "    print(mu)\n",
    "    return X1@R + mu.T"
   ]
  },
  {
   "cell_type": "code",
   "execution_count": 29,
   "metadata": {},
   "outputs": [
    {
     "data": {
      "image/png": "[encoded data removed]",
      "text/plain": [
       "<Figure size 432x288 with 1 Axes>"
      ]
     },
     "metadata": {
      "needs_background": "light"
     },
     "output_type": "display_data"
    }
   ],
   "source": [
    "x1 = np.linspace(-10, 10, 100)\n",
    "y1 = x1**2\n",
    "X1 = np.concatenate(([x1], [y1]), axis=0).T\n",
    "X2 = X1[:, [1,0]]+10+np.random.normal(0, 3, (100, 2))\n",
    "X1 += np.random.normal(0, 1, (100, 2))\n",
    "# print(X1, X2)\n",
    "plt.scatter(X1[:, 0], X1[:, 1], label='X1')\n",
    "plt.scatter(X2[:, 0], X2[:, 1], label='X2')\n",
    "plt.legend()\n",
    "plt.show()"
   ]
  },
  {
   "cell_type": "code",
   "execution_count": 30,
   "metadata": {},
   "outputs": [
    {
     "name": "stdout",
     "output_type": "stream",
     "text": [
      "[[-10.83306274]\n",
      " [ -9.72643887]]\n"
     ]
    },
    {
     "data": {
      "image/png": "[encoded data removed]",
      "text/plain": [
       "<Figure size 432x288 with 1 Axes>"
      ]
     },
     "metadata": {
      "needs_background": "light"
     },
     "output_type": "display_data"
    }
   ],
   "source": [
    "X2_ = prokrust(X2, X1)\n",
    "plt.scatter(X1[:, 0], X1[:, 1], label='X1')\n",
    "plt.scatter(X2_[:, 0], X2_[:, 1], label='X2')\n",
    "plt.legend()\n",
    "plt.show()"
   ]
  },
  {
   "cell_type": "code",
   "execution_count": 151,
   "metadata": {},
   "outputs": [
    {
     "data": {
      "image/png": "[encoded data removed]",
      "text/plain": [
       "<Figure size 432x288 with 1 Axes>"
      ]
     },
     "metadata": {
      "needs_background": "light"
     },
     "output_type": "display_data"
    }
   ],
   "source": [
    "x1 = np.linspace(-1, 1, 100)\n",
    "y1 = x1**2\n",
    "X1 = np.concatenate(([x1], [y1]), axis=0).T\n",
    "x2 = np.linspace(-1, 1, 100)\n",
    "y2 = x2**4\n",
    "X2 = np.concatenate(([y2], [x2]), axis=0).T+10\n",
    "# print(X1, X2)\n",
    "plt.scatter(X1[:, 0], X1[:, 1], label='X1')\n",
    "plt.scatter(X2[:, 0], X2[:, 1], label='X2')\n",
    "plt.legend()\n",
    "plt.show()"
   ]
  },
  {
   "cell_type": "code",
   "execution_count": 152,
   "metadata": {},
   "outputs": [
    {
     "name": "stdout",
     "output_type": "stream",
     "text": [
      "[[-10.        ]\n",
      " [ -9.86806733]]\n"
     ]
    },
    {
     "data": {
      "image/png": "[encoded data removed]",
      "text/plain": [
       "<Figure size 432x288 with 1 Axes>"
      ]
     },
     "metadata": {
      "needs_background": "light"
     },
     "output_type": "display_data"
    }
   ],
   "source": [
    "X2_ = prokrust(X2, X1)\n",
    "plt.scatter(X1[:, 0], X1[:, 1], label='X1')\n",
    "plt.scatter(X2_[:, 0], X2_[:, 1], label='X2')\n",
    "plt.legend()\n",
    "plt.show()"
   ]
  },
  {
   "cell_type": "code",
   "execution_count": null,
   "metadata": {},
   "outputs": [],
   "source": []
  }
 ],
 "metadata": {
  "kernelspec": {
   "display_name": "Python 3.8.10 64-bit (microsoft store)",
   "language": "python",
   "name": "python3"
  },
  "language_info": {
   "codemirror_mode": {
    "name": "ipython",
    "version": 3
   },
   "file_extension": ".py",
   "mimetype": "text/x-python",
   "name": "python",
   "nbconvert_exporter": "python",
   "pygments_lexer": "ipython3",
   "version": "3.8.10"
  },
  "orig_nbformat": 4,
  "vscode": {
   "interpreter": {
    "hash": "41fc388e4a8728efc1b0380f965aa1f6ef12e829823cfab7a874823d70a39179"
   }
  }
 },
 "nbformat": 4,
 "nbformat_minor": 2
}
