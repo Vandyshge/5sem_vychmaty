{
 "cells": [
  {
   "cell_type": "markdown",
   "metadata": {
    "id": "6HuCJG-aTTEa"
   },
   "source": [
    "Прежде чем вы решите эту задачу, убедитесь, что все работает должным образом. Для начала, **restart the kernel** (перезапустите ядро) (для этого:Kernel$\\rightarrow$Restart)  после чего **run all cells** (запустите все ячейки) (для этого: select Cell$\\rightarrow$Run All).\n",
    "\n",
    "Убедитесь, что вы заполнили все места с надписью `YOUR CODE HERE` или \"YOUR ANSWER HERE\", а также ваше имя ниже:"
   ]
  },
  {
   "cell_type": "code",
   "execution_count": 1,
   "metadata": {
    "id": "j29R-2d6TTEf"
   },
   "outputs": [],
   "source": [
    "NAME = \"Vandyshev Georgii\""
   ]
  },
  {
   "cell_type": "markdown",
   "metadata": {
    "id": "4shdZcyuTTEg"
   },
   "source": [
    "---"
   ]
  },
  {
   "cell_type": "code",
   "execution_count": 1,
   "metadata": {
    "deletable": false,
    "editable": false,
    "id": "qyu2s_tcTTEh",
    "nbgrader": {
     "cell_type": "code",
     "checksum": "91b44f5d2ffaa2a93b4847cf1b9a93bf",
     "grade": false,
     "grade_id": "cell-fd9a8a256ce96e0b",
     "locked": true,
     "schema_version": 3,
     "solution": false,
     "task": false
    }
   },
   "outputs": [],
   "source": [
    "import numpy as np\n",
    "import matplotlib.pyplot as plt"
   ]
  },
  {
   "cell_type": "markdown",
   "metadata": {
    "deletable": false,
    "editable": false,
    "id": "VCevu0WdTTEh",
    "nbgrader": {
     "cell_type": "markdown",
     "checksum": "36d083da872978b918dc7c258c4ce0a2",
     "grade": false,
     "grade_id": "cell-360083120ef5ab52",
     "locked": true,
     "schema_version": 3,
     "solution": false,
     "task": false
    }
   },
   "source": [
    "# 1D прямоугольная потенциальная яма\n",
    "\n",
    "Рассмотрим квантовую частицу, описываемую волновой функцией $\\psi(x)$ , находящуюся в потенциальной яме $V(x)$.\n",
    "Для простоты рассмотрим только одномерную вещественную переменную $x$.\n",
    "\n",
    "Волновая функция частицы подчиняется уравнению Шедингера\n",
    "\n",
    "\n",
    "$$\n",
    "-\\frac{\\hbar^2}{2m} \\psi''(x)  + V(x)\\psi(x) = E\\psi(x)\\;.\n",
    "$$\n",
    "\n",
    "Здесь $\\hbar$ постоянная Планка, $m$ масса частицы (обе известны) и $E$ энергия частицы.\n",
    "\n",
    "\n",
    "Учитывая граничные условия, ненулевое решение для $\\psi(x)$ существует только для некоторых значений энергий. Физики говорят, что энергия частицы _квантована_. Математики говорят, что это не что иное, как проблема собственных значений оператора Штурма-Лиувилля\n",
    "\n",
    "\n",
    "$$\n",
    "L = -\\frac{\\hbar^2}{2m}\\frac{d^2}{dx^2} + V(x) \\;.\n",
    "$$\n",
    "\n",
    "\n",
    "Здесь мы рассматриваем так называемый потенциал прямоугольной ямы,\n",
    "\n",
    "\n",
    "$$\n",
    "V(x) = %\n",
    "\\begin{cases}\n",
    "&0, &0 < x < a \\\\\n",
    "&\\infty, &\\text{в остальных случаях.} \n",
    "\\end{cases}\n",
    "$$\n",
    "\n",
    "Define\n",
    "$$\n",
    "E = \\frac{\\hbar^2}{2m} k^2\n",
    "$$\n",
    "\n",
    "Уравнение Шредингера для $0 < x < a$ становится\n",
    "\n",
    "$$\n",
    "\\psi''(x) = -k^2 \\psi(x)\n",
    "$$\n",
    "\n",
    "с граничными условиями $\\psi(0) = \\psi(a) = 0$.\n",
    "\n",
    "Решения\n",
    "\n",
    "$$\\psi_n(x) = \\sqrt{\\frac{2}{a}} \\sin{k_n x}$$\n",
    "\n",
    "\n",
    "где\n",
    "\n",
    "$$\n",
    "k_n a = \\pi n\\;, \\qquad n = 1, 2, \\cdots\n",
    "$$\n",
    "\n",
    "Так что энергии равны\n",
    "\n",
    "$$\n",
    "E_n = \\frac{\\pi^2\\hbar^2}{2ma^2} n^2\n",
    "$$"
   ]
  },
  {
   "cell_type": "markdown",
   "metadata": {
    "deletable": false,
    "editable": false,
    "id": "JVbA_ps-TTEi",
    "nbgrader": {
     "cell_type": "markdown",
     "checksum": "f4c0370367e65c567de8f967a60cf9f1",
     "grade": false,
     "grade_id": "cell-3be39ca2ce355116",
     "locked": true,
     "schema_version": 3,
     "solution": false,
     "task": false
    }
   },
   "source": [
    "# Задача 1. Собственные функции\n",
    "\n",
    "Определите сетку\n",
    "\n",
    "$$x_j = a \\frac{j}{N}, \\qquad j=0, \\cdots, N\n",
    "$$\n",
    "\n",
    "и сеточную функцию $\\psi_j$.\n",
    "\n",
    "Уравнение Шредингера становится\n",
    "\n",
    "$$\n",
    "\\psi_{j-1} + \\psi_{j+1} - 2\\psi_{j} = -k^2 h^2 \\psi_j \\; , \\qquad j = 1, \\cdots, N-1\n",
    "$$\n",
    "\n",
    "где $h=a/N$ является расстоянием между сетками, а граничнми условия являются $\\psi_0 = \\psi_N = 0$.\n",
    "\n",
    "Обратите внимание, что последнее уравнение определяет задачу на собственные значения в  $N-1$ мерном пространстве, охватываемом векторами $(\\psi_1, \\psi_2, \\cdots, \\psi_{N-1})^T$. Здесь матрица, собственные значения которой мы ищем, является трехдиагональной, а допустимые значения $(k h)^2$ являются ее собственными значениями."
   ]
  },
  {
   "cell_type": "markdown",
   "metadata": {
    "deletable": false,
    "editable": false,
    "id": "Jd-1JohrTTEi",
    "nbgrader": {
     "cell_type": "markdown",
     "checksum": "a2df2d5d96118994f5d948a2ba03d48a",
     "grade": false,
     "grade_id": "cell-eab0189cf5a42ef7",
     "locked": true,
     "schema_version": 3,
     "solution": false,
     "task": false
    }
   },
   "source": [
    "Напишите функцию, которая возвращает матрицу для задачи на собственные значения, описанной выше.\n",
    "\n",
    "Функция numpy `np.fill_diagonal` может быть удобна при решении задачи. Также обратите внимание, что для заполнения диагоналей вы можете разрезать матрицу примерно так: `a[1:, :]`."
   ]
  },
  {
   "cell_type": "code",
   "execution_count": 12,
   "metadata": {
    "deletable": false,
    "id": "bCdUsYmBTTEj",
    "nbgrader": {
     "cell_type": "code",
     "checksum": "bacf9dd2dd478286af59b035e3a9195d",
     "grade": false,
     "grade_id": "cell-aafe722b76d0a6b5",
     "locked": false,
     "schema_version": 3,
     "solution": true,
     "task": false
    }
   },
   "outputs": [],
   "source": [
    "def hamiltonian(npts):\n",
    "    \"\"\"Постройте матрицу собственных значений для 1D уравнения Шредингера.\n",
    "    \n",
    "    на ввод\n",
    "    ----------\n",
    "    npts : int\n",
    "        Количество узлов в меше: $x_j = a*j /npts$, with $j=0, ..., npts$\n",
    "        \n",
    "    выводит\n",
    "    -------\n",
    "    ham : ndarray, shape(npts-1, npts-1)\n",
    "        Матрица меш версии оператора Штурма-Лиувилля.\n",
    "    \"\"\"\n",
    "    return np.zeros((npts-1, npts-1)) - 2*np.diag(np.ones(npts-1)) + np.diag(np.ones(npts-2), 1) + np.diag(np.ones(npts-2), -1)\n",
    "    raise NotImplementedError()"
   ]
  },
  {
   "cell_type": "code",
   "execution_count": 6,
   "metadata": {
    "deletable": false,
    "editable": false,
    "id": "WgFCSB6mTTEj",
    "nbgrader": {
     "cell_type": "code",
     "checksum": "b0842cacc7a28a0924559ccb04029f08",
     "grade": true,
     "grade_id": "cell-b55c38e4cbf73e1f",
     "locked": true,
     "points": 2,
     "schema_version": 3,
     "solution": false,
     "task": false
    }
   },
   "outputs": [
    {
     "name": "stdout",
     "output_type": "stream",
     "text": [
      "[[-2.  1.  0.  0.  0.  0.  0.  0.  0.]\n",
      " [ 1. -2.  1.  0.  0.  0.  0.  0.  0.]\n",
      " [ 0.  1. -2.  1.  0.  0.  0.  0.  0.]\n",
      " [ 0.  0.  1. -2.  1.  0.  0.  0.  0.]\n",
      " [ 0.  0.  0.  1. -2.  1.  0.  0.  0.]\n",
      " [ 0.  0.  0.  0.  1. -2.  1.  0.  0.]\n",
      " [ 0.  0.  0.  0.  0.  1. -2.  1.  0.]\n",
      " [ 0.  0.  0.  0.  0.  0.  1. -2.  1.]\n",
      " [ 0.  0.  0.  0.  0.  0.  0.  1. -2.]]\n"
     ]
    }
   ],
   "source": [
    "N = 10\n",
    "ham = hamiltonian(N)\n",
    "print(ham)\n",
    "assert ham.shape == (N-1, N-1)\n"
   ]
  },
  {
   "cell_type": "markdown",
   "metadata": {
    "deletable": false,
    "editable": false,
    "id": "jyuRZgBHTTEj",
    "nbgrader": {
     "cell_type": "markdown",
     "checksum": "14ba815e9347bd765d8bc113fdd3bc45",
     "grade": false,
     "grade_id": "cell-e3c64f6e9d4d3f08",
     "locked": true,
     "schema_version": 3,
     "solution": false,
     "task": false
    }
   },
   "source": [
    "# Задача 2. Решите задачу о собственных значениях\n",
    "\n",
    "Напишите функцию, которая возвращает собственные значения и собственные векторы гамильтониана с учетом числа точек на сетке."
   ]
  },
  {
   "cell_type": "code",
   "execution_count": 13,
   "metadata": {
    "deletable": false,
    "id": "Hty99SY-TTEk",
    "nbgrader": {
     "cell_type": "code",
     "checksum": "5a71c474c81a82dbbdea3b353ff9f026",
     "grade": false,
     "grade_id": "cell-c338c12b8b0ff65f",
     "locked": false,
     "schema_version": 3,
     "solution": true,
     "task": false
    }
   },
   "outputs": [],
   "source": [
    "def eigensystem(N):\n",
    "    \"\"\"Постройте гамильтониан в меше и вычислите его собственные значения и собственные векторы.\n",
    "    \n",
    "    Получите собственные значения в отсортированном порядке.\n",
    "    \n",
    "    на ввод\n",
    "    ----------\n",
    "    N : int\n",
    "        Количество узлов в меше: $x_j = a*j /N$, with $j=0, ..., N$.\n",
    "        \n",
    "    выводит\n",
    "    -------\n",
    "    vals : ndarray, shape(N-1,)\n",
    "        Собственные значения в порядке возрастания.\n",
    "        \n",
    "    vects : ndarray, shape(N-1, N-1)\n",
    "        Собственные векторы, расположенные в столбцах: `vect[:, j]` is the \n",
    "        нормализованный собственный вектор, соответствующий `vals[j]`.\n",
    "    \"\"\"\n",
    "    def qr_algorithm(A, num_iter=10**5, eps=1e-10):\n",
    "        T = A.copy()\n",
    "        U = np.eye(A.shape[0])\n",
    "        conv = [(T, U)]\n",
    "        for i in range(num_iter):\n",
    "            Q, R = np.linalg.qr(T)\n",
    "            T = R @ Q\n",
    "            U = U @ Q\n",
    "            conv.append((T, U))\n",
    "            if np.sum(np.abs(np.tril(T, k=-1))) < eps:\n",
    "                break\n",
    "        return T, U, conv[1:]\n",
    "    ham = hamiltonian(N)\n",
    "    T, U, conv = qr_algorithm(ham)\n",
    "    vals = np.diag(T)\n",
    "    sorting = vals.argsort()\n",
    "    vals = vals[sorting]\n",
    "    vects = U.T[sorting,:].T\n",
    "    return vals, vects\n",
    "    raise NotImplementedError()"
   ]
  },
  {
   "cell_type": "code",
   "execution_count": 10,
   "metadata": {
    "deletable": false,
    "editable": false,
    "id": "33JyY0TYTTEk",
    "nbgrader": {
     "cell_type": "code",
     "checksum": "c1bda7f7635564873a459c2c52d3d43a",
     "grade": true,
     "grade_id": "cell-79dc8ca40332b3cb",
     "locked": true,
     "points": 3,
     "schema_version": 3,
     "solution": false,
     "task": false
    }
   },
   "outputs": [],
   "source": [
    "from numpy.testing import assert_allclose\n",
    "N = 10\n",
    "ham = hamiltonian(10)\n",
    "vals, vects = eigensystem(10)\n",
    "\n",
    "assert (vals[1:] >= vals[:-1]).all()\n",
    "\n",
    "for j in range(vals.shape[0]):\n",
    "    assert_allclose(ham @ vects[:, j],\n",
    "                    vals[j] * vects[:, j], atol=1e-10)\n"
   ]
  },
  {
   "cell_type": "markdown",
   "metadata": {
    "deletable": false,
    "editable": false,
    "id": "O-vcXX7OTTEk",
    "nbgrader": {
     "cell_type": "markdown",
     "checksum": "47109e851f5975efda56be32e8b89e64",
     "grade": false,
     "grade_id": "cell-af0f96f6ffa29419",
     "locked": true,
     "schema_version": 3,
     "solution": false,
     "task": false
    }
   },
   "source": [
    "# Задача 3. Длинноволновый предел FD задачи\n",
    "\n",
    "Мы ожидаем, что в пределе $N\\to\\infty$ решения дискретной системы стремятся к решению непрерывной задачи. \n",
    "\n",
    "Постройте спектр FD задачи для нескольких значений $N$. Обратите внимание, что спектр ограничен, т.е. мы можем только надеяться, что низколежащие состояния совпадают: для достаточно больших $N$, несколько первых состояний FD задачи близки к соответствующим собственным состояниям непрерывной задачи.  (Подробнее см., например, A.A. Samarski and A.V. Gulin, раздел 1.4.4)"
   ]
  },
  {
   "cell_type": "code",
   "execution_count": 15,
   "metadata": {
    "id": "pgAGFId5TTEk"
   },
   "outputs": [
    {
     "data": {
      "image/png": "[encoded data removed]",
      "text/plain": [
       "<Figure size 432x288 with 1 Axes>"
      ]
     },
     "metadata": {
      "needs_background": "light"
     },
     "output_type": "display_data"
    },
    {
     "data": {
      "image/png": "[encoded data removed]",
      "text/plain": [
       "<Figure size 432x288 with 1 Axes>"
      ]
     },
     "metadata": {
      "needs_background": "light"
     },
     "output_type": "display_data"
    },
    {
     "data": {
      "image/png": "[encoded data removed]",
      "text/plain": [
       "<Figure size 432x288 with 1 Axes>"
      ]
     },
     "metadata": {
      "needs_background": "light"
     },
     "output_type": "display_data"
    }
   ],
   "source": [
    "# Постройте спектр FD задачи для нескольких значений N.\n",
    "# Постройте спектр непрерывной задачи на том же графике.\n",
    "for n in [10, 50, 100]:\n",
    "    ham = hamiltonian(n)\n",
    "    eigvals, _ = eigensystem(n)\n",
    "    theor_eigvals = -(np.pi**2*np.arange(1, n)**2/n**2)\n",
    "    theor_eigvals.sort()\n",
    "    eigvals.sort()\n",
    "    plt.scatter(np.arange(len(eigvals)), eigvals, color=\"r\", label=\"discrete\")\n",
    "    plt.scatter(np.arange(len(theor_eigvals)), theor_eigvals, label=\"continious\")\n",
    "    plt.title(str(n))\n",
    "    plt.legend()\n",
    "    plt.show()"
   ]
  },
  {
   "cell_type": "markdown",
   "metadata": {
    "deletable": false,
    "editable": false,
    "id": "EoRsl6KGTTEl",
    "nbgrader": {
     "cell_type": "markdown",
     "checksum": "d2f18c2cfac976eecdbe76666433b0e5",
     "grade": false,
     "grade_id": "cell-79c6a06c54de6b6d",
     "locked": true,
     "schema_version": 3,
     "solution": false,
     "task": false
    }
   },
   "source": [
    "Сделайте так, чтобы функция в ячейке ниже возвращала значение $N$ таким образом, чтобы первые 10 собственных значений FD задачи и непрерывной задачи совпадали в пределах относительного допуска $10^{-3}$."
   ]
  },
  {
   "cell_type": "code",
   "execution_count": 16,
   "metadata": {
    "deletable": false,
    "id": "KXROruMtTTEl",
    "nbgrader": {
     "cell_type": "code",
     "checksum": "659a5a6782f439c6ec7fa427929c7ab1",
     "grade": false,
     "grade_id": "cell-a0dccf755c881b94",
     "locked": false,
     "schema_version": 3,
     "solution": true,
     "task": false
    }
   },
   "outputs": [],
   "source": [
    "def eigvals_diff(n):\n",
    "    ham = hamiltonian(n)\n",
    "    eigvals, _ = eigensystem(n)\n",
    "    theor_eigvals = -(np.pi**2*np.arange(1, n)**2/n**2)\n",
    "    theor_eigvals.sort()\n",
    "    return np.sum(np.abs(eigvals[n-11:n-1]-theor_eigvals[n-11:n-1]))\n",
    "\n",
    "def get_large_N():\n",
    "    # YOUR CODE HERE\n",
    "    n = 20\n",
    "    while (eigvals_diff(n) > 10**(-7)):\n",
    "        print(n)\n",
    "        n = n*2\n",
    "        print(eigvals_diff(n))\n",
    "    return n"
   ]
  },
  {
   "cell_type": "code",
   "execution_count": 17,
   "metadata": {
    "deletable": false,
    "editable": false,
    "id": "aN37NjFOTTEl",
    "nbgrader": {
     "cell_type": "code",
     "checksum": "de871b4813132a85195ec6678c66ddcf",
     "grade": true,
     "grade_id": "cell-d85b44c5d92936e0",
     "locked": true,
     "points": 6,
     "schema_version": 3,
     "solution": false,
     "task": false
    }
   },
   "outputs": [
    {
     "name": "stdout",
     "output_type": "stream",
     "text": [
      "20\n",
      "0.07904970548486494\n",
      "40\n",
      "0.005000368767818183\n",
      "80\n"
     ]
    }
   ],
   "source": [
    "NN = get_large_N()\n",
    "print(NN)\n",
    "vals, _ = eigensystem(NN)\n",
    "theor_eigvals = -(np.pi**2*np.arange(1, NN)**2/NN**2)\n",
    "theor_eigvals.sort()\n",
    "print(vals[NN-11:NN-1], theor_eigvals[NN-11:NN-1])\n",
    "assert_allclose(vals[NN-11:NN-1], theor_eigvals[NN-11:NN-1], atol=10**(-7))\n",
    "\n",
    "# остальная часть этой ячейки представляет собой тест, который сравнивает первые 10 собственных значений"
   ]
  },
  {
   "cell_type": "markdown",
   "metadata": {
    "deletable": false,
    "editable": false,
    "id": "vcczNZ2cTTEl",
    "nbgrader": {
     "cell_type": "markdown",
     "checksum": "6cc02a52faa32f2f9407012e912fb88c",
     "grade": false,
     "grade_id": "cell-4a4d614a4c80bf28",
     "locked": true,
     "schema_version": 3,
     "solution": false,
     "task": false
    }
   },
   "source": [
    "# Задача 4. Волновые функции"
   ]
  },
  {
   "cell_type": "markdown",
   "metadata": {
    "deletable": false,
    "editable": false,
    "id": "LOb0b_p4TTEl",
    "nbgrader": {
     "cell_type": "markdown",
     "checksum": "938ffede4f4e31402cdb7f7999c5de40",
     "grade": false,
     "grade_id": "cell-fd83c17823e931ad",
     "locked": true,
     "schema_version": 3,
     "solution": false,
     "task": false
    }
   },
   "source": [
    "Постройте волновые функции (т.е. собственные векторы) для нескольких наименьших  состояний. Сравните с ожидаемой формой. Сколько нулей имеет число собственных функций $k$?"
   ]
  },
  {
   "cell_type": "code",
   "execution_count": 13,
   "metadata": {
    "id": "rtzjWBV2TTEl"
   },
   "outputs": [
    {
     "data": {
      "image/png": "[encoded data removed]",
      "text/plain": [
       "<Figure size 432x288 with 1 Axes>"
      ]
     },
     "metadata": {
      "needs_background": "light"
     },
     "output_type": "display_data"
    }
   ],
   "source": [
    "# постройте здесь волновые функции\n",
    "fig = plt.figure()\n",
    "_, vects = eigensystem(100)\n",
    "for i in range(3):\n",
    "    plt.scatter(np.arange(1,100,1), vects[i], label=f'$\\\\psi_{i}$')\n",
    "plt.legend()\n",
    "plt.grid()\n",
    "plt.show()"
   ]
  },
  {
   "cell_type": "markdown",
   "metadata": {
    "deletable": false,
    "editable": false,
    "id": "WqikqrcjTTEm",
    "nbgrader": {
     "cell_type": "markdown",
     "checksum": "63d19761c024ae3c603e5820ffe793ff",
     "grade": false,
     "grade_id": "cell-d0a5a2108321c342",
     "locked": true,
     "schema_version": 3,
     "solution": false,
     "task": false
    }
   },
   "source": [
    "# Задача 5. Возмущение\n",
    "\n",
    "Рассмотрим теперь модифицированный потенциал: добавьте к потенциалу прямоугольной ямы дополнительный член\n",
    "\n",
    "$$\n",
    "V(x) = -\\frac{\\hbar^2}{2m}\\, \\gamma\\, x(x-a)\n",
    "$$\n",
    "\n",
    "для $0 < x < a$, where $\\gamma$ - константа.\n",
    "\n",
    "Аналитическое решение можно выразить через функции параболического цилиндра, а численное решение является прямым продолжением того, что мы сделали в предыдущем разделе."
   ]
  },
  {
   "cell_type": "markdown",
   "metadata": {
    "deletable": false,
    "editable": false,
    "id": "VnrUQnfVTTEm",
    "nbgrader": {
     "cell_type": "markdown",
     "checksum": "45ffb8bcf1de11742dcb4f007d953876",
     "grade": false,
     "grade_id": "cell-65d49ff5520f5952",
     "locked": true,
     "schema_version": 3,
     "solution": false,
     "task": false
    }
   },
   "source": [
    "## Численное решение\n",
    "\n",
    "Опять же, определите сеточную функцию $\\psi_j$. Тогда уравнение Шредингера становится\n",
    "\n",
    "$$\n",
    "-\\left( \\psi_{j-1} + \\psi_{j+1} - 2\\psi_{j} \\right) - \\gamma h^2 x_j (x_j - a) \\psi_j = k^2 h^2 \\psi_j \\; , \\qquad j = 1, \\cdots, N-1\n",
    "$$\n",
    "\n",
    "так что диагональные элементы гамильтоновой матрицы больше не являются константами.\n",
    "\n",
    "Постройте гамильтонову матрицу, решите для собственных значений и постройте волновые функции основного состояния для диапазона $\\gamma$. Обдумайте структуру волновой функции для $\\gamma > 500$."
   ]
  },
  {
   "cell_type": "code",
   "execution_count": 2,
   "metadata": {},
   "outputs": [],
   "source": [
    "a = 10"
   ]
  },
  {
   "cell_type": "code",
   "execution_count": 3,
   "metadata": {
    "deletable": false,
    "id": "TnOWw2qNTTEm",
    "nbgrader": {
     "cell_type": "code",
     "checksum": "a5f51202140acfac61f1320fcbdaff4b",
     "grade": false,
     "grade_id": "cell-f7dc2f611e4b19af",
     "locked": false,
     "schema_version": 3,
     "solution": true,
     "task": false
    }
   },
   "outputs": [],
   "source": [
    "def hamiltonian_perturbed(gamma, npts):\n",
    "    \"\"\" Постройте матрицу собственных значений для дискретного 1D уравнения Шредингера..\n",
    "    \n",
    "    на ввод\n",
    "    ----------\n",
    "    gamma : float\n",
    "        Дополнительный потенциал заключается в $gamma * x * (x-1)$\n",
    "    npts : int\n",
    "        Количество узлов в сетке меше: $x_j = a*j /npts$, with $j=0, ..., npts$\n",
    "        \n",
    "    выводит\n",
    "    -------\n",
    "    ham : ndarray, shape(npts-1, npts-1)\n",
    "        Матрица меш версии оператора Штурма-Лиувилля.\n",
    "    \"\"\"\n",
    "    grid = np.arange(1, npts) * a / npts\n",
    "    H = np.zeros((npts-1, npts-1)) - 2*np.diag(np.ones(npts-1)) + np.diag(np.ones(npts-2), 1) + np.diag(np.ones(npts-2), -1)\n",
    "    x = np.linspace(0, a, npts-1)\n",
    "    H += np.diag(-gamma * grid * (grid - a) * (1/npts)**2)\n",
    "    return H\n",
    "    raise NotImplementedError()"
   ]
  },
  {
   "cell_type": "code",
   "execution_count": 4,
   "metadata": {
    "deletable": false,
    "editable": false,
    "id": "wRkW3V8tTTEm",
    "nbgrader": {
     "cell_type": "code",
     "checksum": "32bbafba7b50af91a34974157e408c1d",
     "grade": true,
     "grade_id": "cell-ad4764121a24f8dc",
     "locked": true,
     "points": 4,
     "schema_version": 3,
     "solution": false,
     "task": false
    }
   },
   "outputs": [],
   "source": [
    "gamma, N = 590, 11\n",
    "h = hamiltonian_perturbed(gamma, N)\n",
    "assert h.shape == (N-1, N-1)\n"
   ]
  },
  {
   "cell_type": "code",
   "execution_count": 5,
   "metadata": {
    "id": "uO39R4KoTTEn"
   },
   "outputs": [],
   "source": [
    "def eigensystem_gamma(N,gamma):\n",
    "    ham = hamiltonian_perturbed(gamma, N)\n",
    "    true_eigvals, true_eigvec = np.linalg.eig(ham)\n",
    "    sorting = true_eigvals.argsort()\n",
    "    vals = true_eigvals[sorting]\n",
    "    vects = true_eigvec.T[sorting,:].T\n",
    "    return vals, vects"
   ]
  },
  {
   "cell_type": "code",
   "execution_count": 10,
   "metadata": {},
   "outputs": [
    {
     "data": {
      "image/png": "[encoded data removed]",
      "text/plain": [
       "<Figure size 720x720 with 1 Axes>"
      ]
     },
     "metadata": {
      "needs_background": "light"
     },
     "output_type": "display_data"
    }
   ],
   "source": [
    "plt.figure(figsize=(10,10))\n",
    "gammas = [10, 100, 500, 1000, 10000]\n",
    "N = 100\n",
    "x = np.linspace(0, a, N-1)\n",
    "for gamma in gammas:\n",
    "    _, vects = eigensystem_gamma(N,gamma)\n",
    "    A = np.sum(np.abs(vects)**2, axis=1)*(x[1]-x[0])\n",
    "    vects /= np.sqrt(A)\n",
    "    plt.scatter(np.linspace(0,a,N-1), np.abs(vects[0])**2, label=f'$\\\\gamma$ = {gamma}')\n",
    "plt.ylim([0,0.6])\n",
    "plt.legend()\n",
    "plt.grid()"
   ]
  }
 ],
 "metadata": {
  "colab": {
   "provenance": [],
   "toc_visible": true
  },
  "kernelspec": {
   "display_name": "Python 3",
   "language": "python",
   "name": "python3"
  },
  "language_info": {
   "codemirror_mode": {
    "name": "ipython",
    "version": 3
   },
   "file_extension": ".py",
   "mimetype": "text/x-python",
   "name": "python",
   "nbconvert_exporter": "python",
   "pygments_lexer": "ipython3",
   "version": "3.8.10 (tags/v3.8.10:3d8993a, May  3 2021, 11:48:03) [MSC v.1928 64 bit (AMD64)]"
  },
  "vscode": {
   "interpreter": {
    "hash": "41fc388e4a8728efc1b0380f965aa1f6ef12e829823cfab7a874823d70a39179"
   }
  }
 },
 "nbformat": 4,
 "nbformat_minor": 1
}
